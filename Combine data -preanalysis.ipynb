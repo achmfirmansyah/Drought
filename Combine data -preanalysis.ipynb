{
 "cells": [
  {
   "cell_type": "code",
   "execution_count": 1,
   "id": "e48cca27-3d3b-49b7-88fe-828dae77ad73",
   "metadata": {},
   "outputs": [],
   "source": [
    "import rioxarray as rxr\n",
    "import numpy as np\n",
    "from dateutil.relativedelta import relativedelta\n",
    "from datetime import date,datetime\n",
    "import pandas as pd\n",
    "import warnings\n",
    "from tqdm import tqdm\n",
    "warnings.filterwarnings(\"ignore\")"
   ]
  },
  {
   "cell_type": "code",
   "execution_count": 2,
   "id": "3f123bde-8a7a-45d1-b448-f765ac51c860",
   "metadata": {},
   "outputs": [],
   "source": [
    "raster_data = rxr.open_rasterio('Curah_Hujan.tif')\n",
    "mask = raster_data != -9999\n",
    "\n",
    "# Calculate the minimum value excluding -9999\n",
    "min_value_ch = raster_data.where(mask).min()\n",
    "max_value_ch = raster_data.where(mask).max()"
   ]
  },
  {
   "cell_type": "code",
   "execution_count": 3,
   "id": "f5c69fa2-29bb-43e2-b1b0-5b54e07d6218",
   "metadata": {},
   "outputs": [],
   "source": [
    "raster_data = rxr.open_rasterio('RH.tif')\n",
    "mask = raster_data != -9999\n",
    "\n",
    "# Calculate the minimum value excluding -9999\n",
    "min_value_rh = raster_data.where(mask).min()\n",
    "max_value_rh = raster_data.where(mask).max()"
   ]
  },
  {
   "cell_type": "code",
   "execution_count": 4,
   "id": "d7e2b46a-953b-48fe-bd6c-95bf989c64fa",
   "metadata": {},
   "outputs": [],
   "source": [
    "raster_data = rxr.open_rasterio('TEMPERATUR.tif')\n",
    "mask = raster_data != -9999\n",
    "\n",
    "# Calculate the minimum value excluding -9999\n",
    "min_value_t = raster_data.where(mask).min()\n",
    "max_value_t = raster_data.where(mask).max()"
   ]
  },
  {
   "cell_type": "code",
   "execution_count": 5,
   "id": "cbb171cd-d947-44b2-84ee-e30a3b24dc34",
   "metadata": {},
   "outputs": [],
   "source": [
    "def mosaic_monthly(raster_file,year):\n",
    "    raster_data = rxr.open_rasterio(raster_file)\n",
    "    date_a = date(2011, 1, 1)\n",
    "    ar_year=[]\n",
    "    for i in range(1,13):\n",
    "        date_b = date(year, i, 1)\n",
    "        if i<11:\n",
    "            date_c = date(year, i+1, 1)\n",
    "        else:\n",
    "            date_c = date(year+1,1,1)\n",
    "        days_start=(date_b - date_a).days\n",
    "        days_end=(date_c-date_a).days\n",
    "        bands=raster_data[range(days_start,days_end+1)]\n",
    "        ar_months = np.array([band.values for band in bands])\n",
    "        ar_year.append(ar_months.mean(axis=0))        \n",
    "    return np.array(ar_year)"
   ]
  },
  {
   "cell_type": "code",
   "execution_count": 8,
   "id": "a067b435-d5f3-4e7f-a81f-eb97ae452aea",
   "metadata": {},
   "outputs": [
    {
     "name": "stderr",
     "output_type": "stream",
     "text": [
      "100%|██████████████████████████████████████████████████████████████████████████████████| 12/12 [03:01<00:00, 15.15s/it]\n"
     ]
    }
   ],
   "source": [
    "dict_ch={}\n",
    "for i in tqdm(range(2011,2023)):\n",
    "    ch_mosaic=mosaic_monthly('Curah_Hujan.tif',i)\n",
    "    dict_ch[i]=ch_mosaic"
   ]
  },
  {
   "cell_type": "code",
   "execution_count": 9,
   "id": "b39ffa3d-8764-4a35-bea7-0859b9398812",
   "metadata": {},
   "outputs": [
    {
     "name": "stderr",
     "output_type": "stream",
     "text": [
      "100%|██████████████████████████████████████████████████████████████████████████████████| 12/12 [01:47<00:00,  8.96s/it]\n"
     ]
    }
   ],
   "source": [
    "dict_rh={}\n",
    "for i in tqdm(range(2011,2023)):\n",
    "    rh_mosaic=mosaic_monthly('RH.tif',i)\n",
    "    dict_rh[i]=ch_mosaic"
   ]
  },
  {
   "cell_type": "code",
   "execution_count": 10,
   "id": "de986da9-5ce1-460f-b1db-76af397bfd3f",
   "metadata": {},
   "outputs": [
    {
     "name": "stderr",
     "output_type": "stream",
     "text": [
      "100%|██████████████████████████████████████████████████████████████████████████████████| 12/12 [03:02<00:00, 15.18s/it]\n"
     ]
    }
   ],
   "source": [
    "dict_t={}\n",
    "for i in tqdm(range(2011,2023)):\n",
    "    t_mosaic=mosaic_monthly('TEMPERATUR.tif',i)\n",
    "    dict_t[i]=t_mosaic"
   ]
  },
  {
   "cell_type": "code",
   "execution_count": 11,
   "id": "cc68177d-78ce-48e0-bc70-af9362550a87",
   "metadata": {},
   "outputs": [
    {
     "name": "stdout",
     "output_type": "stream",
     "text": [
      "(163, 38, 50)\n"
     ]
    }
   ],
   "source": [
    "tif_path = 'NDVI_11_24_full.tif'\n",
    "raster = rxr.open_rasterio(tif_path)\n",
    "# Convert the raster data into a NumPy array\n",
    "ndvi_mosaic = raster.values\n",
    "\n",
    "tif_path = 'PDSI_11_24_full.tif'\n",
    "raster = rxr.open_rasterio(tif_path)\n",
    "# Convert the raster data into a NumPy array\n",
    "pdsi_mosaic = raster.values\n",
    "\n",
    "print(ndvi_mosaic.shape)"
   ]
  },
  {
   "cell_type": "code",
   "execution_count": 12,
   "id": "8f5a02b8-541d-4502-bd20-2fd39c39e916",
   "metadata": {},
   "outputs": [],
   "source": [
    "##get ndvi from 2018-2020 for calibration\n",
    "def months_between(start_date, end_date):\n",
    "  \"\"\"Calculates the number of months between two dates.\"\"\"\n",
    "  diff = relativedelta(end_date, start_date)\n",
    "  return diff.years * 12 + diff.months\n",
    "\n",
    "start_date = datetime(2011, 1, 1)\n",
    "end_date_a = datetime(2020, 1, 1)\n",
    "end_date_b = datetime(2023, 1, 1)\n",
    "months_a = months_between(start_date, end_date_a)\n",
    "months_b = months_between(start_date, end_date_b)"
   ]
  },
  {
   "cell_type": "code",
   "execution_count": 13,
   "id": "47546c9f-d67d-4158-ad2a-2fa0b6606b49",
   "metadata": {},
   "outputs": [],
   "source": [
    "ndvi_cal=ndvi_mosaic[months_a:months_b,:,:]\n",
    "pdsi_cal=pdsi_mosaic[months_a:months_b,:,:]"
   ]
  },
  {
   "cell_type": "code",
   "execution_count": 15,
   "id": "eae6b73d-34a4-4e27-8983-201bad0a2b03",
   "metadata": {},
   "outputs": [],
   "source": [
    "ch_cal=[]\n",
    "rh_cal=[]\n",
    "t_cal=[]\n",
    "for i in [2020,2021,2022]:\n",
    "    ch_cal.extend(dict_ch[i])\n",
    "    rh_cal.extend(dict_rh[i])\n",
    "    t_cal.extend(dict_t[i])\n",
    "ch_cal=np.array(ch_cal)\n",
    "rh_cal=np.array(rh_cal)\n",
    "t_cal=np.array(t_cal)"
   ]
  },
  {
   "cell_type": "code",
   "execution_count": 21,
   "id": "c068c450-e410-4c19-8fb7-ad710d4be0fe",
   "metadata": {},
   "outputs": [],
   "source": [
    "dt_gab={}\n",
    "dt_gab['ch']=ch_cal\n",
    "dt_gab['rh']=rh_cal\n",
    "dt_gab['t']=t_cal\n",
    "dt_gab['ndvi']=ndvi_cal"
   ]
  },
  {
   "cell_type": "code",
   "execution_count": 23,
   "id": "edf7c803-3318-4128-a5ae-eadc2ecb4382",
   "metadata": {},
   "outputs": [],
   "source": [
    "import pickle\n",
    "with open('data_gab_awal_2020_2022.pickle','wb') as file:\n",
    "    pickle.dump(dt_gab,file)"
   ]
  }
 ],
 "metadata": {
  "kernelspec": {
   "display_name": "Python 3 (ipykernel)",
   "language": "python",
   "name": "python3"
  },
  "language_info": {
   "codemirror_mode": {
    "name": "ipython",
    "version": 3
   },
   "file_extension": ".py",
   "mimetype": "text/x-python",
   "name": "python",
   "nbconvert_exporter": "python",
   "pygments_lexer": "ipython3",
   "version": "3.12.4"
  }
 },
 "nbformat": 4,
 "nbformat_minor": 5
}
