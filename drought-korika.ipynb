{
 "cells": [
  {
   "cell_type": "code",
   "execution_count": 1,
   "id": "3e1a08a5",
   "metadata": {
    "_cell_guid": "b1076dfc-b9ad-4769-8c92-a6c4dae69d19",
    "_uuid": "8f2839f25d086af736a60e9eeb907d3b93b6e0e5",
    "execution": {
     "iopub.execute_input": "2024-08-03T15:36:33.559914Z",
     "iopub.status.busy": "2024-08-03T15:36:33.559644Z",
     "iopub.status.idle": "2024-08-03T15:36:37.476848Z",
     "shell.execute_reply": "2024-08-03T15:36:37.476077Z"
    },
    "papermill": {
     "duration": 3.927814,
     "end_time": "2024-08-03T15:36:37.479210",
     "exception": false,
     "start_time": "2024-08-03T15:36:33.551396",
     "status": "completed"
    },
    "tags": []
   },
   "outputs": [],
   "source": [
    "# This Python 3 environment comes with many helpful analytics libraries installed\n",
    "# It is defined by the kaggle/python Docker image: https://github.com/kaggle/docker-python\n",
    "# For example, here's several helpful packages to load\n",
    "\n",
    "import numpy as np # linear algebra\n",
    "import pandas as pd # data processing, CSV file I/O (e.g. pd.read_csv)\n",
    "import torch\n",
    "import torch.nn as nn\n",
    "import os\n",
    "from collections import OrderedDict\n",
    "from torch.utils.data import Dataset, DataLoader\n",
    "import numpy as np\n",
    "import logging\n",
    "import pickle\n",
    "from torch.optim import lr_scheduler\n",
    "from tqdm import tqdm\n",
    "import torch.optim as optim\n",
    "from glob import glob"
   ]
  },
  {
   "cell_type": "markdown",
   "id": "b0b2e762",
   "metadata": {
    "papermill": {
     "duration": 0.006683,
     "end_time": "2024-08-03T15:36:37.493070",
     "exception": false,
     "start_time": "2024-08-03T15:36:37.486387",
     "status": "completed"
    },
    "tags": []
   },
   "source": [
    "### Defining the model and parameter"
   ]
  },
  {
   "cell_type": "code",
   "execution_count": 2,
   "id": "4eb3decd",
   "metadata": {
    "execution": {
     "iopub.execute_input": "2024-08-03T15:36:37.507727Z",
     "iopub.status.busy": "2024-08-03T15:36:37.507360Z",
     "iopub.status.idle": "2024-08-03T15:36:37.514769Z",
     "shell.execute_reply": "2024-08-03T15:36:37.514028Z"
    },
    "papermill": {
     "duration": 0.016912,
     "end_time": "2024-08-03T15:36:37.516684",
     "exception": false,
     "start_time": "2024-08-03T15:36:37.499772",
     "status": "completed"
    },
    "tags": []
   },
   "outputs": [],
   "source": [
    "class DroughtDataset(Dataset):\n",
    "    def __init__(self, inputs, targets=None):\n",
    "        \"\"\"\n",
    "        Args:\n",
    "            inputs (numpy.ndarray): Array of input data.\n",
    "            targets (numpy.ndarray, optional): Array of target data. Defaults to None.\n",
    "        \"\"\"\n",
    "        self.inputs = inputs\n",
    "        self.targets = targets\n",
    "\n",
    "    def __len__(self):\n",
    "        return len(self.inputs)\n",
    "\n",
    "    def __getitem__(self, idx):\n",
    "        # Return a tuple of input and target if targets are provided\n",
    "        if self.targets is not None:\n",
    "            return torch.tensor(self.inputs[idx], dtype=torch.float32), torch.tensor(self.targets[idx], dtype=torch.float32)\n",
    "        # Otherwise return only the input\n",
    "        return torch.tensor(self.inputs[idx], dtype=torch.float32)"
   ]
  },
  {
   "cell_type": "code",
   "execution_count": 3,
   "id": "efb92451",
   "metadata": {
    "execution": {
     "iopub.execute_input": "2024-08-03T15:36:37.531668Z",
     "iopub.status.busy": "2024-08-03T15:36:37.531402Z",
     "iopub.status.idle": "2024-08-03T15:36:37.570121Z",
     "shell.execute_reply": "2024-08-03T15:36:37.569436Z"
    },
    "papermill": {
     "duration": 0.048594,
     "end_time": "2024-08-03T15:36:37.572002",
     "exception": false,
     "start_time": "2024-08-03T15:36:37.523408",
     "status": "completed"
    },
    "tags": []
   },
   "outputs": [],
   "source": [
    "def make_layers(block):\n",
    "    layers = []\n",
    "    for layer_name, v in block.items():\n",
    "        if 'pool' in layer_name:\n",
    "            layer = nn.MaxPool2d(kernel_size=v[0], stride=v[1], padding=v[2])\n",
    "            layers.append((layer_name, layer))\n",
    "        elif 'deconv' in layer_name:\n",
    "            transposeConv2d = nn.ConvTranspose2d(in_channels=v[0],\n",
    "                                                 out_channels=v[1],\n",
    "                                                 kernel_size=v[2],\n",
    "                                                 stride=v[3],\n",
    "                                                 padding=v[4])\n",
    "            layers.append((layer_name, transposeConv2d))\n",
    "            if 'relu' in layer_name:\n",
    "                layers.append(('relu_' + layer_name, nn.ReLU(inplace=True)))\n",
    "            elif 'leaky' in layer_name:\n",
    "                layers.append(('leaky_' + layer_name,\n",
    "                               nn.LeakyReLU(negative_slope=0.2, inplace=True)))\n",
    "        elif 'conv' in layer_name:\n",
    "            conv2d = nn.Conv2d(in_channels=v[0],\n",
    "                               out_channels=v[1],\n",
    "                               kernel_size=v[2],\n",
    "                               stride=v[3],\n",
    "                               padding=v[4])\n",
    "            layers.append((layer_name, conv2d))\n",
    "            if 'relu' in layer_name:\n",
    "                layers.append(('relu_' + layer_name, nn.ReLU(inplace=True)))\n",
    "            elif 'leaky' in layer_name:\n",
    "                layers.append(('leaky_' + layer_name,\n",
    "                               nn.LeakyReLU(negative_slope=0.2, inplace=True)))\n",
    "        else:\n",
    "            raise NotImplementedError\n",
    "    return nn.Sequential(OrderedDict(layers))\n",
    "\n",
    "\n",
    "class CLSTM_cell(nn.Module):\n",
    "    \"\"\"ConvLSTMCell\n",
    "    \"\"\"\n",
    "    def __init__(self, shape, input_channels, filter_size, num_features):\n",
    "        super(CLSTM_cell, self).__init__()\n",
    "\n",
    "        self.shape = shape  # H, W\n",
    "        self.input_channels = input_channels\n",
    "        self.filter_size = filter_size\n",
    "        self.num_features = num_features\n",
    "        # in this way the output has the same size\n",
    "        self.padding = (filter_size - 1) // 2\n",
    "        self.conv = nn.Sequential(\n",
    "            nn.Conv2d(self.input_channels + self.num_features,\n",
    "                      4 * self.num_features, self.filter_size, 1,\n",
    "                      self.padding),\n",
    "            nn.GroupNorm(4 * self.num_features // 32, 4 * self.num_features))\n",
    "\n",
    "    def forward(self, inputs=None, hidden_state=None, seq_len=3):\n",
    "        device = torch.device(\"cuda:0\" if torch.cuda.is_available() else \"cpu\")\n",
    "        #  seq_len=10 for moving_mnist\n",
    "        if hidden_state is None:\n",
    "            hx = torch.zeros(inputs.size(1), self.num_features, self.shape[0],\n",
    "                             self.shape[1]).to(device)\n",
    "            cx = torch.zeros(inputs.size(1), self.num_features, self.shape[0],\n",
    "                             self.shape[1]).to(device)\n",
    "        else:\n",
    "            hx, cx = hidden_state\n",
    "        output_inner = []\n",
    "        for index in range(seq_len):\n",
    "            if inputs is None:\n",
    "                x = torch.zeros(hx.size(0), self.input_channels, self.shape[0],\n",
    "                                self.shape[1]).to(device)\n",
    "            else:\n",
    "                x = inputs[index, ...]\n",
    "\n",
    "            combined = torch.cat((x, hx), 1)\n",
    "            gates = self.conv(combined)  # gates: S, num_features*4, H, W\n",
    "            # it should return 4 tensors: i,f,g,o\n",
    "            ingate, forgetgate, cellgate, outgate = torch.split(\n",
    "                gates, self.num_features, dim=1)\n",
    "            ingate = torch.sigmoid(ingate)\n",
    "            forgetgate = torch.sigmoid(forgetgate)\n",
    "            cellgate = torch.tanh(cellgate)\n",
    "            outgate = torch.sigmoid(outgate)\n",
    "\n",
    "            cy = (forgetgate * cx) + (ingate * cellgate)\n",
    "            hy = outgate * torch.tanh(cy)\n",
    "            output_inner.append(hy)\n",
    "            hx = hy\n",
    "            cx = cy\n",
    "        return torch.stack(output_inner), (hy, cy)\n",
    "class Encoder(nn.Module):\n",
    "    def __init__(self, subnets, rnns):\n",
    "        super().__init__()\n",
    "        assert len(subnets) == len(rnns)\n",
    "        self.blocks = len(subnets)\n",
    "\n",
    "        for index, (params, rnn) in enumerate(zip(subnets, rnns), 1):\n",
    "            # index sign from 1\n",
    "            setattr(self, 'stage' + str(index), make_layers(params))\n",
    "            setattr(self, 'rnn' + str(index), rnn)\n",
    "\n",
    "    def forward_by_stage(self, inputs, subnet, rnn):\n",
    "        seq_number, batch_size, input_channel, height, width = inputs.size()\n",
    "        inputs = torch.reshape(inputs, (-1, input_channel, height, width))\n",
    "        inputs = subnet(inputs)\n",
    "        inputs = torch.reshape(inputs, (seq_number, batch_size, inputs.size(1),\n",
    "                                        inputs.size(2), inputs.size(3)))\n",
    "        outputs_stage, state_stage = rnn(inputs,None)\n",
    "        return outputs_stage, state_stage\n",
    "\n",
    "    def forward(self, inputs):\n",
    "        inputs = inputs.transpose(0, 1)  # to S,B,1,64,64\n",
    "        hidden_states = []\n",
    "        logging.debug(inputs.size())\n",
    "        for i in range(1, self.blocks + 1):\n",
    "            inputs, state_stage = self.forward_by_stage(\n",
    "                inputs, getattr(self, 'stage' + str(i)),\n",
    "                getattr(self, 'rnn' + str(i)))\n",
    "            hidden_states.append(state_stage)\n",
    "        return tuple(hidden_states)\n",
    "class Decoder(nn.Module):\n",
    "    def __init__(self, subnets, rnns):\n",
    "        super().__init__()\n",
    "        assert len(subnets) == len(rnns)\n",
    "\n",
    "        self.blocks = len(subnets)\n",
    "\n",
    "        for index, (params, rnn) in enumerate(zip(subnets, rnns)):\n",
    "            setattr(self, 'rnn' + str(self.blocks - index), rnn)\n",
    "            setattr(self, 'stage' + str(self.blocks - index),\n",
    "                    make_layers(params))\n",
    "\n",
    "    def forward_by_stage(self, inputs, state, subnet, rnn):\n",
    "        \n",
    "        inputs, state_stage = rnn(inputs, state, seq_len=1)\n",
    "        seq_number, batch_size, input_channel, height, width = inputs.size()\n",
    "        inputs = torch.reshape(inputs, (-1, input_channel, height, width))\n",
    "        inputs = subnet(inputs)\n",
    "        inputs = torch.reshape(inputs, (seq_number, batch_size, inputs.size(1),\n",
    "                                        inputs.size(2), inputs.size(3)))\n",
    "        return inputs\n",
    "\n",
    "        # input: 5D S*B*C*H*W\n",
    "\n",
    "    def forward(self, hidden_states):\n",
    "        inputs = self.forward_by_stage(None, hidden_states[-1],\n",
    "                                       getattr(self, 'stage3'),\n",
    "                                       getattr(self, 'rnn3'))\n",
    "        for i in list(range(1, self.blocks))[::-1]:\n",
    "            inputs = self.forward_by_stage(inputs, hidden_states[i - 1],\n",
    "                                           getattr(self, 'stage' + str(i)),\n",
    "                                           getattr(self, 'rnn' + str(i)))\n",
    "        inputs = inputs.transpose(0, 1)  # to B,S,1,64,64\n",
    "        return inputs\n",
    "class EarlyStopping:\n",
    "    \"\"\"Early stops the training if validation loss doesn't improve after a given patience.\"\"\"\n",
    "    def __init__(self, patience=7, verbose=False):\n",
    "        \"\"\"\n",
    "        Args:\n",
    "            patience (int): How long to wait after last time validation loss improved.\n",
    "                            Default: 7\n",
    "            verbose (bool): If True, prints a message for each validation loss improvement. \n",
    "                            Default: False\n",
    "        \"\"\"\n",
    "        self.patience = patience\n",
    "        self.verbose = verbose\n",
    "        self.counter = 0\n",
    "        self.best_score = None\n",
    "        self.early_stop = False\n",
    "        self.val_loss_min = np.Inf\n",
    "\n",
    "    def __call__(self, val_loss, model, epoch, save_path):\n",
    "\n",
    "        score = -val_loss\n",
    "\n",
    "        if self.best_score is None:\n",
    "            self.best_score = score\n",
    "            self.save_checkpoint(val_loss, model, epoch, save_path)\n",
    "        elif score < self.best_score:\n",
    "            self.counter += 1\n",
    "            print(\n",
    "                f'EarlyStopping counter: {self.counter} out of {self.patience}'\n",
    "            )\n",
    "            if self.counter >= self.patience:\n",
    "                self.early_stop = True\n",
    "        else:\n",
    "            self.best_score = score\n",
    "            self.save_checkpoint(val_loss, model, epoch, save_path)\n",
    "            self.counter = 0\n",
    "\n",
    "    def save_checkpoint(self, val_loss, model, epoch, save_path):\n",
    "        '''Saves model when validation loss decrease.'''\n",
    "        if self.verbose:\n",
    "            print(\n",
    "                f'Validation loss decreased ({self.val_loss_min:.6f} --> {val_loss:.6f}).  Saving model ...'\n",
    "            )\n",
    "        ls=glob(save_path+'*')\n",
    "        if len(ls)>0:\n",
    "            for i in ls:\n",
    "                os.remove(i)\n",
    "        torch.save(\n",
    "            model, save_path + \"/\" +\n",
    "            \"checkpoint_{}_{:.6f}.pth.tar\".format(epoch, val_loss))\n",
    "        self.val_loss_min = val_loss"
   ]
  },
  {
   "cell_type": "code",
   "execution_count": 4,
   "id": "70db79f1",
   "metadata": {
    "execution": {
     "iopub.execute_input": "2024-08-03T15:36:37.586593Z",
     "iopub.status.busy": "2024-08-03T15:36:37.586330Z",
     "iopub.status.idle": "2024-08-03T15:36:37.594415Z",
     "shell.execute_reply": "2024-08-03T15:36:37.593708Z"
    },
    "papermill": {
     "duration": 0.01748,
     "end_time": "2024-08-03T15:36:37.596272",
     "exception": false,
     "start_time": "2024-08-03T15:36:37.578792",
     "status": "completed"
    },
    "tags": []
   },
   "outputs": [],
   "source": [
    "import torch.nn.functional as F\n",
    "class activation():\n",
    "\n",
    "    def __init__(self, act_type, negative_slope=0.2, inplace=True):\n",
    "        super().__init__()\n",
    "        self._act_type = act_type\n",
    "        self.negative_slope = negative_slope\n",
    "        self.inplace = inplace\n",
    "\n",
    "    def __call__(self, input):\n",
    "        if self._act_type == 'leaky':\n",
    "            return F.leaky_relu(input, negative_slope=self.negative_slope, inplace=self.inplace)\n",
    "        elif self._act_type == 'relu':\n",
    "            return F.relu(input, inplace=self.inplace)\n",
    "        elif self._act_type == 'sigmoid':\n",
    "            return torch.sigmoid(input)\n",
    "        else:\n",
    "            raise NotImplementedError\n",
    "\n",
    "\n",
    "class ED(nn.Module):\n",
    "    \n",
    "    def __init__(self, encoder, decoder):\n",
    "        super().__init__()\n",
    "        self.encoder = encoder\n",
    "        self.decoder = decoder\n",
    "\n",
    "    def forward(self, input):\n",
    "        state = self.encoder(input)\n",
    "        output = self.decoder(state)\n",
    "        return output"
   ]
  },
  {
   "cell_type": "code",
   "execution_count": 5,
   "id": "e7555c28",
   "metadata": {
    "execution": {
     "iopub.execute_input": "2024-08-03T15:36:37.611174Z",
     "iopub.status.busy": "2024-08-03T15:36:37.610900Z",
     "iopub.status.idle": "2024-08-03T15:36:37.737381Z",
     "shell.execute_reply": "2024-08-03T15:36:37.736484Z"
    },
    "papermill": {
     "duration": 0.136365,
     "end_time": "2024-08-03T15:36:37.739339",
     "exception": false,
     "start_time": "2024-08-03T15:36:37.602974",
     "status": "completed"
    },
    "tags": []
   },
   "outputs": [],
   "source": [
    "encoder_params = [\n",
    "    [\n",
    "        OrderedDict({'conv1_leaky_1': [1, 16, 3, 1, 1]}),\n",
    "        OrderedDict({'conv2_leaky_1': [64, 64, 3, 2, 1]}),\n",
    "        OrderedDict({'conv3_leaky_1': [96, 96, 3, 2, 1]}),\n",
    "    ],\n",
    "\n",
    "    [\n",
    "        CLSTM_cell(shape=(64,64), input_channels=16, filter_size=5, num_features=64),\n",
    "        CLSTM_cell(shape=(32,32), input_channels=64, filter_size=5, num_features=96),\n",
    "        CLSTM_cell(shape=(16,16), input_channels=96, filter_size=5, num_features=96)\n",
    "    ]\n",
    "]\n",
    "decoder_params = [\n",
    "    [\n",
    "        OrderedDict({'deconv1_leaky_1': [96, 96, 4, 2, 1]}),\n",
    "        OrderedDict({'deconv2_leaky_1': [96, 96, 4, 2, 1]}),\n",
    "        OrderedDict({\n",
    "            'conv3_leaky_1': [64, 16, 3, 1, 1],\n",
    "            'conv4_leaky_1': [16, 1, 1, 1, 0]\n",
    "        }),\n",
    "    ],\n",
    "\n",
    "    [\n",
    "        CLSTM_cell(shape=(16,16), input_channels=96, filter_size=5, num_features=96),\n",
    "        CLSTM_cell(shape=(32,32), input_channels=96, filter_size=5, num_features=96),\n",
    "        CLSTM_cell(shape=(64,64), input_channels=96, filter_size=5, num_features=64),\n",
    "    ]\n",
    "]"
   ]
  },
  {
   "cell_type": "markdown",
   "id": "8072ba39",
   "metadata": {
    "papermill": {
     "duration": 0.006434,
     "end_time": "2024-08-03T15:36:37.752592",
     "exception": false,
     "start_time": "2024-08-03T15:36:37.746158",
     "status": "completed"
    },
    "tags": []
   },
   "source": [
    "### Preparing the data "
   ]
  },
  {
   "cell_type": "code",
   "execution_count": 6,
   "id": "bfd6cd6f",
   "metadata": {
    "execution": {
     "iopub.execute_input": "2024-08-03T15:36:37.766884Z",
     "iopub.status.busy": "2024-08-03T15:36:37.766610Z",
     "iopub.status.idle": "2024-08-03T15:36:37.904693Z",
     "shell.execute_reply": "2024-08-03T15:36:37.903747Z"
    },
    "papermill": {
     "duration": 0.147799,
     "end_time": "2024-08-03T15:36:37.906964",
     "exception": false,
     "start_time": "2024-08-03T15:36:37.759165",
     "status": "completed"
    },
    "tags": []
   },
   "outputs": [],
   "source": [
    "with open('/kaggle/input/drought-convlstm/array_forconvlstm.pickle','rb') as file:\n",
    "    array_=pickle.load(file)\n",
    "    \n",
    "inputs=array_['input']\n",
    "sh=inputs.shape\n",
    "inputs=inputs.reshape(sh[0],sh[1],1,sh[2],sh[3])\n",
    "outputs=array_['output']\n",
    "sh=outputs.shape\n",
    "outputs=outputs.reshape(sh[0],1,1,sh[1],sh[2])"
   ]
  },
  {
   "cell_type": "code",
   "execution_count": 7,
   "id": "3cf810d4",
   "metadata": {
    "execution": {
     "iopub.execute_input": "2024-08-03T15:36:37.921866Z",
     "iopub.status.busy": "2024-08-03T15:36:37.921562Z",
     "iopub.status.idle": "2024-08-03T15:36:37.928105Z",
     "shell.execute_reply": "2024-08-03T15:36:37.927265Z"
    },
    "papermill": {
     "duration": 0.016111,
     "end_time": "2024-08-03T15:36:37.930088",
     "exception": false,
     "start_time": "2024-08-03T15:36:37.913977",
     "status": "completed"
    },
    "tags": []
   },
   "outputs": [
    {
     "data": {
      "text/plain": [
       "(141, 1, 1, 64, 64)"
      ]
     },
     "execution_count": 7,
     "metadata": {},
     "output_type": "execute_result"
    }
   ],
   "source": [
    "outputs.shape"
   ]
  },
  {
   "cell_type": "code",
   "execution_count": 8,
   "id": "73b1b133",
   "metadata": {
    "execution": {
     "iopub.execute_input": "2024-08-03T15:36:37.946327Z",
     "iopub.status.busy": "2024-08-03T15:36:37.946080Z",
     "iopub.status.idle": "2024-08-03T15:36:38.859067Z",
     "shell.execute_reply": "2024-08-03T15:36:38.857974Z"
    },
    "papermill": {
     "duration": 0.92306,
     "end_time": "2024-08-03T15:36:38.861324",
     "exception": false,
     "start_time": "2024-08-03T15:36:37.938264",
     "status": "completed"
    },
    "tags": []
   },
   "outputs": [
    {
     "name": "stdout",
     "output_type": "stream",
     "text": [
      "Training start from 0 to  112\n",
      "Test start from  113\n",
      "Sampled array: [ 80   4  40  69  10  45  70  66  47  11  98  36  83 111  18   0  72  26\n",
      "  81  53 104  91  12]\n"
     ]
    }
   ],
   "source": [
    "from sklearn.model_selection import train_test_split\n",
    "train_index=np.arange(0,int(sh[0]*0.8)+1)\n",
    "test_index=np.arange(int(sh[0]*0.8)+1,sh[0])\n",
    "train_sample, valid_sample = train_test_split(train_index, test_size=0.2, random_state=42)\n",
    "print('Training start from 0 to ',int(sh[0]*0.8))\n",
    "print('Test start from ',int(sh[0]*0.8)+1)\n",
    "\n",
    "print(\"Sampled array:\", valid_sample)\n"
   ]
  },
  {
   "cell_type": "code",
   "execution_count": 9,
   "id": "9d7567e3",
   "metadata": {
    "execution": {
     "iopub.execute_input": "2024-08-03T15:36:38.877276Z",
     "iopub.status.busy": "2024-08-03T15:36:38.876608Z",
     "iopub.status.idle": "2024-08-03T15:36:38.892999Z",
     "shell.execute_reply": "2024-08-03T15:36:38.892151Z"
    },
    "papermill": {
     "duration": 0.026099,
     "end_time": "2024-08-03T15:36:38.894915",
     "exception": false,
     "start_time": "2024-08-03T15:36:38.868816",
     "status": "completed"
    },
    "tags": []
   },
   "outputs": [],
   "source": [
    "# Create dataset\n",
    "train_dataset = DroughtDataset(inputs[train_sample,:,:], outputs[train_sample,:,:])\n",
    "valid_dataset = DroughtDataset(inputs[valid_sample,:,:], outputs[valid_sample,:,:])\n",
    "test_dataset = DroughtDataset(inputs[test_index,:,:],outputs[test_index,:,:])\n",
    "\n",
    "# Create DataLoader\n",
    "train_dataloader = DataLoader(train_dataset, batch_size=10, shuffle=True)\n",
    "valid_dataloader = DataLoader(valid_dataset, batch_size=10, shuffle=True)\n",
    "test_dataloader = DataLoader(test_dataset, batch_size=1, shuffle=True)\n"
   ]
  },
  {
   "cell_type": "markdown",
   "id": "8d8ee261",
   "metadata": {
    "papermill": {
     "duration": 0.006687,
     "end_time": "2024-08-03T15:36:38.908445",
     "exception": false,
     "start_time": "2024-08-03T15:36:38.901758",
     "status": "completed"
    },
    "tags": []
   },
   "source": [
    "### Model Building"
   ]
  },
  {
   "cell_type": "code",
   "execution_count": 10,
   "id": "f38b48d9",
   "metadata": {
    "execution": {
     "iopub.execute_input": "2024-08-03T15:36:38.923558Z",
     "iopub.status.busy": "2024-08-03T15:36:38.923269Z",
     "iopub.status.idle": "2024-08-03T15:36:38.943729Z",
     "shell.execute_reply": "2024-08-03T15:36:38.942919Z"
    },
    "papermill": {
     "duration": 0.030259,
     "end_time": "2024-08-03T15:36:38.945538",
     "exception": false,
     "start_time": "2024-08-03T15:36:38.915279",
     "status": "completed"
    },
    "tags": []
   },
   "outputs": [],
   "source": [
    "def train(epochs, learning_rate):\n",
    "    '''\n",
    "    main function to run the training\n",
    "    '''\n",
    "    encoder = Encoder(encoder_params[0], encoder_params[1])#.cuda()\n",
    "    decoder = Decoder(decoder_params[0], decoder_params[1])#.cuda()\n",
    "    net = ED(encoder, decoder)\n",
    "    # initialize the early_stopping object\n",
    "    early_stopping = EarlyStopping(patience=10, verbose=True)\n",
    "    device = torch.device(\"cuda:0\" if torch.cuda.is_available() else \"cpu\")\n",
    "    #if torch.cuda.device_count() > 1:\n",
    "    #    net = nn.DataParallel(net)\n",
    "    net.to(device)\n",
    "    save_dir = './save_model/'\n",
    "    if os.path.exists(os.path.join(save_dir,'checkpoint.pth.tar')):\n",
    "        # load existing model\n",
    "        print('==> loading existing model')\n",
    "        model_info = torch.load(os.path.join(save_dir, 'checkpoin.pth.tar'))\n",
    "        net.load_state_dict(model_info['state_dict'])\n",
    "        optimizer = torch.optim.Adam(net.parameters())\n",
    "        optimizer.load_state_dict(model_info['optimizer'])\n",
    "        cur_epoch = model_info['epoch'] + 1\n",
    "    else:\n",
    "        if not os.path.isdir(save_dir):\n",
    "            os.makedirs(save_dir)\n",
    "        else:\n",
    "            ls_file=glob('./save_model/*')\n",
    "            for i in ls_file:\n",
    "                os.remove(i)\n",
    "        cur_epoch = 0\n",
    "    \n",
    "    lossfunction = nn.MSELoss()#.cuda()\n",
    "    optimizer = optim.Adam(net.parameters(), lr=learning_rate)\n",
    "    pla_lr_scheduler = lr_scheduler.ReduceLROnPlateau(optimizer,\n",
    "                                                      factor=0.5,\n",
    "                                                      patience=3,\n",
    "                                                      verbose=True)\n",
    "\n",
    "    # to track the training loss as the model trains\n",
    "    train_losses = []\n",
    "    # to track the validation loss as the model trains\n",
    "    valid_losses = []\n",
    "    # to track the average training loss per epoch as the model trains\n",
    "    avg_train_losses = []\n",
    "    # to track the average validation loss per epoch as the model trains\n",
    "    avg_valid_losses = []\n",
    "    # mini_val_loss = np.inf\n",
    "    for epoch in range(cur_epoch, epochs):\n",
    "        ###################\n",
    "        # train the model #\n",
    "        ###################\n",
    "        t = tqdm(train_dataloader, leave=False, total=len(train_dataloader))\n",
    "        for i,(inputVar,targetVar)  in enumerate(t):\n",
    "            inputs = inputVar.to(device)  # B,S,C,H,W\n",
    "            label = targetVar.to(device)  # B,S,C,H,W\n",
    "            optimizer.zero_grad()\n",
    "            net.train()\n",
    "            pred = net(inputs)  # B,S,C,H,W\n",
    "            loss = lossfunction(pred, label)\n",
    "            loss_aver = loss.item() / 10\n",
    "            train_losses.append(loss_aver)\n",
    "            loss.backward()\n",
    "            torch.nn.utils.clip_grad_value_(net.parameters(), clip_value=10.0)\n",
    "            optimizer.step()\n",
    "            t.set_postfix({\n",
    "                'trainloss': '{:.6f}'.format(loss_aver),\n",
    "                'epoch': '{:02d}'.format(epoch)\n",
    "            })\n",
    "        #tb.add_scalar('TrainLoss', loss_aver, epoch)\n",
    "        ######################\n",
    "        # validate the model #\n",
    "        ######################\n",
    "        with torch.no_grad():\n",
    "            net.eval()\n",
    "            t = tqdm(valid_dataloader, leave=False, total=len(valid_dataloader))\n",
    "            for i, (inputVar,targetVar) in enumerate(t):\n",
    "                inputs = inputVar.to(device)\n",
    "                label = targetVar.to(device)\n",
    "                pred = net(inputs)\n",
    "                loss = lossfunction(pred, label)\n",
    "                loss_aver = loss.item() / 10\n",
    "                # record validation loss\n",
    "                valid_losses.append(loss_aver)\n",
    "                #print (\"validloss: {:.6f},  epoch : {:02d}\".format(loss_aver,epoch),end = '\\r', flush=True)\n",
    "                t.set_postfix({\n",
    "                    'validloss': '{:.6f}'.format(loss_aver),\n",
    "                    'epoch': '{:02d}'.format(epoch)\n",
    "                })\n",
    "\n",
    "        torch.cuda.empty_cache()\n",
    "        # calculate average loss over an epoch\n",
    "        train_loss = np.average(train_losses)\n",
    "        valid_loss = np.average(valid_losses)\n",
    "        avg_train_losses.append(train_loss)\n",
    "        avg_valid_losses.append(valid_loss)\n",
    "\n",
    "        epoch_len = len(str(epochs))\n",
    "\n",
    "        print_msg = (f'[{epoch:>{epoch_len}}/{epochs:>{epoch_len}}] ' +\n",
    "                     f'train_loss: {train_loss:.6f} ' +\n",
    "                     f'valid_loss: {valid_loss:.6f}')\n",
    "\n",
    "        print(print_msg)\n",
    "        # clear lists to track next epoch\n",
    "        train_losses = []\n",
    "        valid_losses = []\n",
    "        pla_lr_scheduler.step(valid_loss)  # lr_scheduler\n",
    "        model_dict = {\n",
    "            'epoch': epoch,\n",
    "            'state_dict': net.state_dict(),\n",
    "            'optimizer': optimizer.state_dict()\n",
    "        }\n",
    "        early_stopping(valid_loss.item(), model_dict, epoch,save_dir)\n",
    "        if early_stopping.early_stop:\n",
    "            print(\"Early stopping\")\n",
    "            break\n",
    "\n",
    "    with open(\"avg_train_losses.txt\", 'wt') as f:\n",
    "        for i in avg_train_losses:\n",
    "            print(i, file=f)\n",
    "\n",
    "    with open(\"avg_valid_losses.txt\", 'wt') as f:\n",
    "        for i in avg_valid_losses:\n",
    "            print(i, file=f)"
   ]
  },
  {
   "cell_type": "code",
   "execution_count": 11,
   "id": "bf64950c",
   "metadata": {
    "execution": {
     "iopub.execute_input": "2024-08-03T15:36:38.960345Z",
     "iopub.status.busy": "2024-08-03T15:36:38.959889Z",
     "iopub.status.idle": "2024-08-03T15:39:11.616825Z",
     "shell.execute_reply": "2024-08-03T15:39:11.615723Z"
    },
    "papermill": {
     "duration": 152.666605,
     "end_time": "2024-08-03T15:39:11.619010",
     "exception": false,
     "start_time": "2024-08-03T15:36:38.952405",
     "status": "completed"
    },
    "tags": []
   },
   "outputs": [
    {
     "name": "stderr",
     "output_type": "stream",
     "text": [
      "                                                                           \r"
     ]
    },
    {
     "name": "stdout",
     "output_type": "stream",
     "text": [
      "[   0/1000] train_loss: 0.023621 valid_loss: 0.011045\n",
      "Validation loss decreased (inf --> 0.011045).  Saving model ...\n"
     ]
    },
    {
     "name": "stderr",
     "output_type": "stream",
     "text": [
      "                                                                           \r"
     ]
    },
    {
     "name": "stdout",
     "output_type": "stream",
     "text": [
      "[   1/1000] train_loss: 0.009555 valid_loss: 0.008112\n",
      "Validation loss decreased (0.011045 --> 0.008112).  Saving model ...\n"
     ]
    },
    {
     "name": "stderr",
     "output_type": "stream",
     "text": [
      "                                                                           \r"
     ]
    },
    {
     "name": "stdout",
     "output_type": "stream",
     "text": [
      "[   2/1000] train_loss: 0.007448 valid_loss: 0.006677\n",
      "Validation loss decreased (0.008112 --> 0.006677).  Saving model ...\n"
     ]
    },
    {
     "name": "stderr",
     "output_type": "stream",
     "text": [
      "                                                                           \r"
     ]
    },
    {
     "name": "stdout",
     "output_type": "stream",
     "text": [
      "[   3/1000] train_loss: 0.006369 valid_loss: 0.005858\n",
      "Validation loss decreased (0.006677 --> 0.005858).  Saving model ...\n"
     ]
    },
    {
     "name": "stderr",
     "output_type": "stream",
     "text": [
      "                                                                           \r"
     ]
    },
    {
     "name": "stdout",
     "output_type": "stream",
     "text": [
      "[   4/1000] train_loss: 0.005600 valid_loss: 0.005178\n",
      "Validation loss decreased (0.005858 --> 0.005178).  Saving model ...\n"
     ]
    },
    {
     "name": "stderr",
     "output_type": "stream",
     "text": [
      "                                                                           \r"
     ]
    },
    {
     "name": "stdout",
     "output_type": "stream",
     "text": [
      "[   5/1000] train_loss: 0.005272 valid_loss: 0.005092\n",
      "Validation loss decreased (0.005178 --> 0.005092).  Saving model ...\n"
     ]
    },
    {
     "name": "stderr",
     "output_type": "stream",
     "text": [
      "                                                                           \r"
     ]
    },
    {
     "name": "stdout",
     "output_type": "stream",
     "text": [
      "[   6/1000] train_loss: 0.004747 valid_loss: 0.004650\n",
      "Validation loss decreased (0.005092 --> 0.004650).  Saving model ...\n"
     ]
    },
    {
     "name": "stderr",
     "output_type": "stream",
     "text": [
      "                                                                           \r"
     ]
    },
    {
     "name": "stdout",
     "output_type": "stream",
     "text": [
      "[   7/1000] train_loss: 0.004312 valid_loss: 0.004232\n",
      "Validation loss decreased (0.004650 --> 0.004232).  Saving model ...\n"
     ]
    },
    {
     "name": "stderr",
     "output_type": "stream",
     "text": [
      "                                                                           \r"
     ]
    },
    {
     "name": "stdout",
     "output_type": "stream",
     "text": [
      "[   8/1000] train_loss: 0.004131 valid_loss: 0.004260\n",
      "EarlyStopping counter: 1 out of 10\n"
     ]
    },
    {
     "name": "stderr",
     "output_type": "stream",
     "text": [
      "                                                                           \r"
     ]
    },
    {
     "name": "stdout",
     "output_type": "stream",
     "text": [
      "[   9/1000] train_loss: 0.003882 valid_loss: 0.003941\n",
      "Validation loss decreased (0.004232 --> 0.003941).  Saving model ...\n"
     ]
    },
    {
     "name": "stderr",
     "output_type": "stream",
     "text": [
      "                                                                           \r"
     ]
    },
    {
     "name": "stdout",
     "output_type": "stream",
     "text": [
      "[  10/1000] train_loss: 0.003770 valid_loss: 0.003508\n",
      "Validation loss decreased (0.003941 --> 0.003508).  Saving model ...\n"
     ]
    },
    {
     "name": "stderr",
     "output_type": "stream",
     "text": [
      "                                                                           \r"
     ]
    },
    {
     "name": "stdout",
     "output_type": "stream",
     "text": [
      "[  11/1000] train_loss: 0.003618 valid_loss: 0.003715\n",
      "EarlyStopping counter: 1 out of 10\n"
     ]
    },
    {
     "name": "stderr",
     "output_type": "stream",
     "text": [
      "                                                                           \r"
     ]
    },
    {
     "name": "stdout",
     "output_type": "stream",
     "text": [
      "[  12/1000] train_loss: 0.003452 valid_loss: 0.003269\n",
      "Validation loss decreased (0.003508 --> 0.003269).  Saving model ...\n"
     ]
    },
    {
     "name": "stderr",
     "output_type": "stream",
     "text": [
      "                                                                           \r"
     ]
    },
    {
     "name": "stdout",
     "output_type": "stream",
     "text": [
      "[  13/1000] train_loss: 0.003166 valid_loss: 0.003157\n",
      "Validation loss decreased (0.003269 --> 0.003157).  Saving model ...\n"
     ]
    },
    {
     "name": "stderr",
     "output_type": "stream",
     "text": [
      "                                                                           \r"
     ]
    },
    {
     "name": "stdout",
     "output_type": "stream",
     "text": [
      "[  14/1000] train_loss: 0.003045 valid_loss: 0.003027\n",
      "Validation loss decreased (0.003157 --> 0.003027).  Saving model ...\n"
     ]
    },
    {
     "name": "stderr",
     "output_type": "stream",
     "text": [
      "                                                                           \r"
     ]
    },
    {
     "name": "stdout",
     "output_type": "stream",
     "text": [
      "[  15/1000] train_loss: 0.003007 valid_loss: 0.003329\n",
      "EarlyStopping counter: 1 out of 10\n"
     ]
    },
    {
     "name": "stderr",
     "output_type": "stream",
     "text": [
      "                                                                           \r"
     ]
    },
    {
     "name": "stdout",
     "output_type": "stream",
     "text": [
      "[  16/1000] train_loss: 0.002959 valid_loss: 0.003740\n",
      "EarlyStopping counter: 2 out of 10\n"
     ]
    },
    {
     "name": "stderr",
     "output_type": "stream",
     "text": [
      "                                                                           \r"
     ]
    },
    {
     "name": "stdout",
     "output_type": "stream",
     "text": [
      "[  17/1000] train_loss: 0.003006 valid_loss: 0.002858\n",
      "Validation loss decreased (0.003027 --> 0.002858).  Saving model ...\n"
     ]
    },
    {
     "name": "stderr",
     "output_type": "stream",
     "text": [
      "                                                                           \r"
     ]
    },
    {
     "name": "stdout",
     "output_type": "stream",
     "text": [
      "[  18/1000] train_loss: 0.002753 valid_loss: 0.003175\n",
      "EarlyStopping counter: 1 out of 10\n"
     ]
    },
    {
     "name": "stderr",
     "output_type": "stream",
     "text": [
      "                                                                           \r"
     ]
    },
    {
     "name": "stdout",
     "output_type": "stream",
     "text": [
      "[  19/1000] train_loss: 0.002784 valid_loss: 0.002682\n",
      "Validation loss decreased (0.002858 --> 0.002682).  Saving model ...\n"
     ]
    },
    {
     "name": "stderr",
     "output_type": "stream",
     "text": [
      "                                                                           \r"
     ]
    },
    {
     "name": "stdout",
     "output_type": "stream",
     "text": [
      "[  20/1000] train_loss: 0.002826 valid_loss: 0.003204\n",
      "EarlyStopping counter: 1 out of 10\n"
     ]
    },
    {
     "name": "stderr",
     "output_type": "stream",
     "text": [
      "                                                                           \r"
     ]
    },
    {
     "name": "stdout",
     "output_type": "stream",
     "text": [
      "[  21/1000] train_loss: 0.002786 valid_loss: 0.002934\n",
      "EarlyStopping counter: 2 out of 10\n"
     ]
    },
    {
     "name": "stderr",
     "output_type": "stream",
     "text": [
      "                                                                           \r"
     ]
    },
    {
     "name": "stdout",
     "output_type": "stream",
     "text": [
      "[  22/1000] train_loss: 0.002891 valid_loss: 0.002834\n",
      "EarlyStopping counter: 3 out of 10\n"
     ]
    },
    {
     "name": "stderr",
     "output_type": "stream",
     "text": [
      "                                                                           \r"
     ]
    },
    {
     "name": "stdout",
     "output_type": "stream",
     "text": [
      "[  23/1000] train_loss: 0.002769 valid_loss: 0.002731\n",
      "Epoch 00024: reducing learning rate of group 0 to 5.0000e-03.\n",
      "EarlyStopping counter: 4 out of 10\n"
     ]
    },
    {
     "name": "stderr",
     "output_type": "stream",
     "text": [
      "                                                                           \r"
     ]
    },
    {
     "name": "stdout",
     "output_type": "stream",
     "text": [
      "[  24/1000] train_loss: 0.002537 valid_loss: 0.002979\n",
      "EarlyStopping counter: 5 out of 10\n"
     ]
    },
    {
     "name": "stderr",
     "output_type": "stream",
     "text": [
      "                                                                           \r"
     ]
    },
    {
     "name": "stdout",
     "output_type": "stream",
     "text": [
      "[  25/1000] train_loss: 0.002503 valid_loss: 0.002568\n",
      "Validation loss decreased (0.002682 --> 0.002568).  Saving model ...\n"
     ]
    },
    {
     "name": "stderr",
     "output_type": "stream",
     "text": [
      "                                                                           \r"
     ]
    },
    {
     "name": "stdout",
     "output_type": "stream",
     "text": [
      "[  26/1000] train_loss: 0.002488 valid_loss: 0.002443\n",
      "Validation loss decreased (0.002568 --> 0.002443).  Saving model ...\n"
     ]
    },
    {
     "name": "stderr",
     "output_type": "stream",
     "text": [
      "                                                                           \r"
     ]
    },
    {
     "name": "stdout",
     "output_type": "stream",
     "text": [
      "[  27/1000] train_loss: 0.002516 valid_loss: 0.002636\n",
      "EarlyStopping counter: 1 out of 10\n"
     ]
    },
    {
     "name": "stderr",
     "output_type": "stream",
     "text": [
      "                                                                           \r"
     ]
    },
    {
     "name": "stdout",
     "output_type": "stream",
     "text": [
      "[  28/1000] train_loss: 0.002493 valid_loss: 0.002433\n",
      "Validation loss decreased (0.002443 --> 0.002433).  Saving model ...\n"
     ]
    },
    {
     "name": "stderr",
     "output_type": "stream",
     "text": [
      "                                                                           \r"
     ]
    },
    {
     "name": "stdout",
     "output_type": "stream",
     "text": [
      "[  29/1000] train_loss: 0.002402 valid_loss: 0.002546\n",
      "EarlyStopping counter: 1 out of 10\n"
     ]
    },
    {
     "name": "stderr",
     "output_type": "stream",
     "text": [
      "                                                                           \r"
     ]
    },
    {
     "name": "stdout",
     "output_type": "stream",
     "text": [
      "[  30/1000] train_loss: 0.002383 valid_loss: 0.002365\n",
      "Validation loss decreased (0.002433 --> 0.002365).  Saving model ...\n"
     ]
    },
    {
     "name": "stderr",
     "output_type": "stream",
     "text": [
      "                                                                           \r"
     ]
    },
    {
     "name": "stdout",
     "output_type": "stream",
     "text": [
      "[  31/1000] train_loss: 0.002374 valid_loss: 0.002359\n",
      "Validation loss decreased (0.002365 --> 0.002359).  Saving model ...\n"
     ]
    },
    {
     "name": "stderr",
     "output_type": "stream",
     "text": [
      "                                                                           \r"
     ]
    },
    {
     "name": "stdout",
     "output_type": "stream",
     "text": [
      "[  32/1000] train_loss: 0.002366 valid_loss: 0.002660\n",
      "EarlyStopping counter: 1 out of 10\n"
     ]
    },
    {
     "name": "stderr",
     "output_type": "stream",
     "text": [
      "                                                                           \r"
     ]
    },
    {
     "name": "stdout",
     "output_type": "stream",
     "text": [
      "[  33/1000] train_loss: 0.002333 valid_loss: 0.002506\n",
      "EarlyStopping counter: 2 out of 10\n"
     ]
    },
    {
     "name": "stderr",
     "output_type": "stream",
     "text": [
      "                                                                           \r"
     ]
    },
    {
     "name": "stdout",
     "output_type": "stream",
     "text": [
      "[  34/1000] train_loss: 0.002311 valid_loss: 0.002386\n",
      "EarlyStopping counter: 3 out of 10\n"
     ]
    },
    {
     "name": "stderr",
     "output_type": "stream",
     "text": [
      "                                                                           \r"
     ]
    },
    {
     "name": "stdout",
     "output_type": "stream",
     "text": [
      "[  35/1000] train_loss: 0.002302 valid_loss: 0.002306\n",
      "Validation loss decreased (0.002359 --> 0.002306).  Saving model ...\n"
     ]
    },
    {
     "name": "stderr",
     "output_type": "stream",
     "text": [
      "                                                                           \r"
     ]
    },
    {
     "name": "stdout",
     "output_type": "stream",
     "text": [
      "[  36/1000] train_loss: 0.002286 valid_loss: 0.002370\n",
      "EarlyStopping counter: 1 out of 10\n"
     ]
    },
    {
     "name": "stderr",
     "output_type": "stream",
     "text": [
      "                                                                           \r"
     ]
    },
    {
     "name": "stdout",
     "output_type": "stream",
     "text": [
      "[  37/1000] train_loss: 0.002315 valid_loss: 0.002384\n",
      "EarlyStopping counter: 2 out of 10\n"
     ]
    },
    {
     "name": "stderr",
     "output_type": "stream",
     "text": [
      "                                                                           \r"
     ]
    },
    {
     "name": "stdout",
     "output_type": "stream",
     "text": [
      "[  38/1000] train_loss: 0.002333 valid_loss: 0.002454\n",
      "EarlyStopping counter: 3 out of 10\n"
     ]
    },
    {
     "name": "stderr",
     "output_type": "stream",
     "text": [
      "                                                                           \r"
     ]
    },
    {
     "name": "stdout",
     "output_type": "stream",
     "text": [
      "[  39/1000] train_loss: 0.002360 valid_loss: 0.002394\n",
      "Epoch 00040: reducing learning rate of group 0 to 2.5000e-03.\n",
      "EarlyStopping counter: 4 out of 10\n"
     ]
    },
    {
     "name": "stderr",
     "output_type": "stream",
     "text": [
      "                                                                           \r"
     ]
    },
    {
     "name": "stdout",
     "output_type": "stream",
     "text": [
      "[  40/1000] train_loss: 0.002251 valid_loss: 0.002737\n",
      "EarlyStopping counter: 5 out of 10\n"
     ]
    },
    {
     "name": "stderr",
     "output_type": "stream",
     "text": [
      "                                                                           \r"
     ]
    },
    {
     "name": "stdout",
     "output_type": "stream",
     "text": [
      "[  41/1000] train_loss: 0.002288 valid_loss: 0.002298\n",
      "Validation loss decreased (0.002306 --> 0.002298).  Saving model ...\n"
     ]
    },
    {
     "name": "stderr",
     "output_type": "stream",
     "text": [
      "                                                                           \r"
     ]
    },
    {
     "name": "stdout",
     "output_type": "stream",
     "text": [
      "[  42/1000] train_loss: 0.002258 valid_loss: 0.002317\n",
      "EarlyStopping counter: 1 out of 10\n"
     ]
    },
    {
     "name": "stderr",
     "output_type": "stream",
     "text": [
      "                                                                           \r"
     ]
    },
    {
     "name": "stdout",
     "output_type": "stream",
     "text": [
      "[  43/1000] train_loss: 0.002221 valid_loss: 0.002273\n",
      "Validation loss decreased (0.002298 --> 0.002273).  Saving model ...\n"
     ]
    },
    {
     "name": "stderr",
     "output_type": "stream",
     "text": [
      "                                                                           \r"
     ]
    },
    {
     "name": "stdout",
     "output_type": "stream",
     "text": [
      "[  44/1000] train_loss: 0.002236 valid_loss: 0.002361\n",
      "EarlyStopping counter: 1 out of 10\n"
     ]
    },
    {
     "name": "stderr",
     "output_type": "stream",
     "text": [
      "                                                                           \r"
     ]
    },
    {
     "name": "stdout",
     "output_type": "stream",
     "text": [
      "[  45/1000] train_loss: 0.002213 valid_loss: 0.002687\n",
      "EarlyStopping counter: 2 out of 10\n"
     ]
    },
    {
     "name": "stderr",
     "output_type": "stream",
     "text": [
      "                                                                           \r"
     ]
    },
    {
     "name": "stdout",
     "output_type": "stream",
     "text": [
      "[  46/1000] train_loss: 0.002224 valid_loss: 0.002323\n",
      "EarlyStopping counter: 3 out of 10\n"
     ]
    },
    {
     "name": "stderr",
     "output_type": "stream",
     "text": [
      "                                                                           \r"
     ]
    },
    {
     "name": "stdout",
     "output_type": "stream",
     "text": [
      "[  47/1000] train_loss: 0.002225 valid_loss: 0.002319\n",
      "Epoch 00048: reducing learning rate of group 0 to 1.2500e-03.\n",
      "EarlyStopping counter: 4 out of 10\n"
     ]
    },
    {
     "name": "stderr",
     "output_type": "stream",
     "text": [
      "                                                                           \r"
     ]
    },
    {
     "name": "stdout",
     "output_type": "stream",
     "text": [
      "[  48/1000] train_loss: 0.002192 valid_loss: 0.002205\n",
      "Validation loss decreased (0.002273 --> 0.002205).  Saving model ...\n"
     ]
    },
    {
     "name": "stderr",
     "output_type": "stream",
     "text": [
      "                                                                           \r"
     ]
    },
    {
     "name": "stdout",
     "output_type": "stream",
     "text": [
      "[  49/1000] train_loss: 0.002181 valid_loss: 0.002457\n",
      "EarlyStopping counter: 1 out of 10\n"
     ]
    },
    {
     "name": "stderr",
     "output_type": "stream",
     "text": [
      "                                                                           \r"
     ]
    },
    {
     "name": "stdout",
     "output_type": "stream",
     "text": [
      "[  50/1000] train_loss: 0.002173 valid_loss: 0.002183\n",
      "Validation loss decreased (0.002205 --> 0.002183).  Saving model ...\n"
     ]
    },
    {
     "name": "stderr",
     "output_type": "stream",
     "text": [
      "                                                                           \r"
     ]
    },
    {
     "name": "stdout",
     "output_type": "stream",
     "text": [
      "[  51/1000] train_loss: 0.002164 valid_loss: 0.002540\n",
      "EarlyStopping counter: 1 out of 10\n"
     ]
    },
    {
     "name": "stderr",
     "output_type": "stream",
     "text": [
      "                                                                           \r"
     ]
    },
    {
     "name": "stdout",
     "output_type": "stream",
     "text": [
      "[  52/1000] train_loss: 0.002165 valid_loss: 0.002276\n",
      "EarlyStopping counter: 2 out of 10\n"
     ]
    },
    {
     "name": "stderr",
     "output_type": "stream",
     "text": [
      "                                                                           \r"
     ]
    },
    {
     "name": "stdout",
     "output_type": "stream",
     "text": [
      "[  53/1000] train_loss: 0.002187 valid_loss: 0.002224\n",
      "EarlyStopping counter: 3 out of 10\n"
     ]
    },
    {
     "name": "stderr",
     "output_type": "stream",
     "text": [
      "                                                                           \r"
     ]
    },
    {
     "name": "stdout",
     "output_type": "stream",
     "text": [
      "[  54/1000] train_loss: 0.002147 valid_loss: 0.002213\n",
      "Epoch 00055: reducing learning rate of group 0 to 6.2500e-04.\n",
      "EarlyStopping counter: 4 out of 10\n"
     ]
    },
    {
     "name": "stderr",
     "output_type": "stream",
     "text": [
      "                                                                           \r"
     ]
    },
    {
     "name": "stdout",
     "output_type": "stream",
     "text": [
      "[  55/1000] train_loss: 0.002149 valid_loss: 0.002212\n",
      "EarlyStopping counter: 5 out of 10\n"
     ]
    },
    {
     "name": "stderr",
     "output_type": "stream",
     "text": [
      "                                                                           \r"
     ]
    },
    {
     "name": "stdout",
     "output_type": "stream",
     "text": [
      "[  56/1000] train_loss: 0.002138 valid_loss: 0.002251\n",
      "EarlyStopping counter: 6 out of 10\n"
     ]
    },
    {
     "name": "stderr",
     "output_type": "stream",
     "text": [
      "                                                                           \r"
     ]
    },
    {
     "name": "stdout",
     "output_type": "stream",
     "text": [
      "[  57/1000] train_loss: 0.002136 valid_loss: 0.002259\n",
      "EarlyStopping counter: 7 out of 10\n"
     ]
    },
    {
     "name": "stderr",
     "output_type": "stream",
     "text": [
      "                                                                           \r"
     ]
    },
    {
     "name": "stdout",
     "output_type": "stream",
     "text": [
      "[  58/1000] train_loss: 0.002132 valid_loss: 0.002214\n",
      "Epoch 00059: reducing learning rate of group 0 to 3.1250e-04.\n",
      "EarlyStopping counter: 8 out of 10\n"
     ]
    },
    {
     "name": "stderr",
     "output_type": "stream",
     "text": [
      "                                                                           \r"
     ]
    },
    {
     "name": "stdout",
     "output_type": "stream",
     "text": [
      "[  59/1000] train_loss: 0.002130 valid_loss: 0.002318\n",
      "EarlyStopping counter: 9 out of 10\n"
     ]
    },
    {
     "name": "stderr",
     "output_type": "stream",
     "text": [
      "                                                                           "
     ]
    },
    {
     "name": "stdout",
     "output_type": "stream",
     "text": [
      "[  60/1000] train_loss: 0.002133 valid_loss: 0.002307\n",
      "EarlyStopping counter: 10 out of 10\n",
      "Early stopping\n"
     ]
    },
    {
     "name": "stderr",
     "output_type": "stream",
     "text": [
      "\r"
     ]
    }
   ],
   "source": [
    "train(1000,0.01)"
   ]
  },
  {
   "cell_type": "code",
   "execution_count": 12,
   "id": "0f738777",
   "metadata": {
    "execution": {
     "iopub.execute_input": "2024-08-03T15:39:11.908996Z",
     "iopub.status.busy": "2024-08-03T15:39:11.908020Z",
     "iopub.status.idle": "2024-08-03T15:39:11.914604Z",
     "shell.execute_reply": "2024-08-03T15:39:11.913802Z"
    },
    "papermill": {
     "duration": 0.154264,
     "end_time": "2024-08-03T15:39:11.916442",
     "exception": false,
     "start_time": "2024-08-03T15:39:11.762178",
     "status": "completed"
    },
    "tags": []
   },
   "outputs": [],
   "source": [
    "valid_los= open('/kaggle/working/avg_valid_losses.txt','r')\n",
    "content_valid = valid_los.readlines()\n",
    "valid_los.close()\n",
    "train_los= open('/kaggle/working/avg_train_losses.txt','r')\n",
    "content_train = train_los.readlines()\n",
    "train_los.close()\n",
    "content_train=[float(i.replace('\\n','')) for i in content_train]\n",
    "content_valid=[float(i.replace('\\n','')) for i in content_valid]"
   ]
  },
  {
   "cell_type": "code",
   "execution_count": 13,
   "id": "e1bd5315",
   "metadata": {
    "execution": {
     "iopub.execute_input": "2024-08-03T15:39:12.199677Z",
     "iopub.status.busy": "2024-08-03T15:39:12.199367Z",
     "iopub.status.idle": "2024-08-03T15:39:12.685258Z",
     "shell.execute_reply": "2024-08-03T15:39:12.684361Z"
    },
    "papermill": {
     "duration": 0.629693,
     "end_time": "2024-08-03T15:39:12.687379",
     "exception": false,
     "start_time": "2024-08-03T15:39:12.057686",
     "status": "completed"
    },
    "tags": []
   },
   "outputs": [
    {
     "name": "stderr",
     "output_type": "stream",
     "text": [
      "/opt/conda/lib/python3.10/site-packages/seaborn/_oldcore.py:1119: FutureWarning: use_inf_as_na option is deprecated and will be removed in a future version. Convert inf values to NaN before operating instead.\n",
      "  with pd.option_context('mode.use_inf_as_na', True):\n",
      "/opt/conda/lib/python3.10/site-packages/seaborn/_oldcore.py:1119: FutureWarning: use_inf_as_na option is deprecated and will be removed in a future version. Convert inf values to NaN before operating instead.\n",
      "  with pd.option_context('mode.use_inf_as_na', True):\n",
      "/opt/conda/lib/python3.10/site-packages/seaborn/_oldcore.py:1119: FutureWarning: use_inf_as_na option is deprecated and will be removed in a future version. Convert inf values to NaN before operating instead.\n",
      "  with pd.option_context('mode.use_inf_as_na', True):\n",
      "/opt/conda/lib/python3.10/site-packages/seaborn/_oldcore.py:1119: FutureWarning: use_inf_as_na option is deprecated and will be removed in a future version. Convert inf values to NaN before operating instead.\n",
      "  with pd.option_context('mode.use_inf_as_na', True):\n"
     ]
    },
    {
     "data": {
      "image/png": "[encoded data removed]",
      "text/plain": [
       "<Figure size 640x480 with 1 Axes>"
      ]
     },
     "metadata": {},
     "output_type": "display_data"
    }
   ],
   "source": [
    "import seaborn as sns\n",
    "import matplotlib.pyplot as plt\n",
    "\n",
    "# Create a list of x-values\n",
    "x = np.arange(len(content_train))\n",
    "\n",
    "# Create the line plot\n",
    "sns.lineplot(x=x, y=content_train,label='Train MSELoss')\n",
    "sns.lineplot(x=x, y=content_valid,label='Valid MSELoss')\n",
    "plt.xlim(0-1,len(content_train))\n",
    "plt.show()"
   ]
  },
  {
   "cell_type": "markdown",
   "id": "8480dba7",
   "metadata": {
    "papermill": {
     "duration": 0.142302,
     "end_time": "2024-08-03T15:39:12.974839",
     "exception": false,
     "start_time": "2024-08-03T15:39:12.832537",
     "status": "completed"
    },
    "tags": []
   },
   "source": [
    "### Prediction and Testing"
   ]
  },
  {
   "cell_type": "code",
   "execution_count": 14,
   "id": "a41073fb",
   "metadata": {
    "execution": {
     "iopub.execute_input": "2024-08-03T15:39:13.261295Z",
     "iopub.status.busy": "2024-08-03T15:39:13.260968Z",
     "iopub.status.idle": "2024-08-03T15:39:14.101889Z",
     "shell.execute_reply": "2024-08-03T15:39:14.101073Z"
    },
    "papermill": {
     "duration": 0.986296,
     "end_time": "2024-08-03T15:39:14.104020",
     "exception": false,
     "start_time": "2024-08-03T15:39:13.117724",
     "status": "completed"
    },
    "tags": []
   },
   "outputs": [],
   "source": [
    "encoder = Encoder(encoder_params[0], encoder_params[1])#.cuda()\n",
    "decoder = Decoder(decoder_params[0], decoder_params[1])#.cuda()\n",
    "net = ED(encoder, decoder)\n",
    "device = torch.device(\"cuda:0\" if torch.cuda.is_available() else \"cpu\")\n",
    "net.to(device)\n",
    "saved_model=glob('/kaggle/working/save_model/*')\n",
    "model_info = torch.load(saved_model[0])\n",
    "net.load_state_dict(model_info['state_dict'])\n",
    "net.eval()\n",
    "dict_predict={}\n",
    "lossfunction = nn.MSELoss()\n",
    "with torch.no_grad():\n",
    "    for i, batch in enumerate(test_dataloader):\n",
    "        inputs, targets = batch\n",
    "        pred=net(inputs.to(device))\n",
    "        loss = lossfunction(pred, targets.to(device)).item()\n",
    "        dict_predict[i]={'input':inputs,\n",
    "                        'target':targets,\n",
    "                        'prediction':pred,\n",
    "                        'loss':loss}"
   ]
  },
  {
   "cell_type": "code",
   "execution_count": 15,
   "id": "955f68f0",
   "metadata": {
    "execution": {
     "iopub.execute_input": "2024-08-03T15:39:14.390975Z",
     "iopub.status.busy": "2024-08-03T15:39:14.390592Z",
     "iopub.status.idle": "2024-08-03T15:39:14.408499Z",
     "shell.execute_reply": "2024-08-03T15:39:14.407535Z"
    },
    "papermill": {
     "duration": 0.163084,
     "end_time": "2024-08-03T15:39:14.410448",
     "exception": false,
     "start_time": "2024-08-03T15:39:14.247364",
     "status": "completed"
    },
    "tags": []
   },
   "outputs": [
    {
     "name": "stdout",
     "output_type": "stream",
     "text": [
      "Average MSE_loss= 0.0296185227177505\n"
     ]
    }
   ],
   "source": [
    "import pickle\n",
    "with open('prediction_testing.pkl','wb') as file:\n",
    "    pickle.dump(dict_predict,file)\n",
    "loss_test=[dict_predict[i]['loss'] for i in dict_predict.keys()]\n",
    "print('Average MSE_loss=',np.mean(loss_test))"
   ]
  },
  {
   "cell_type": "markdown",
   "id": "4f5fe63e",
   "metadata": {
    "papermill": {
     "duration": 0.1428,
     "end_time": "2024-08-03T15:39:14.695173",
     "exception": false,
     "start_time": "2024-08-03T15:39:14.552373",
     "status": "completed"
    },
    "tags": []
   },
   "source": [
    "### Predict 2022 until 2023"
   ]
  },
  {
   "cell_type": "code",
   "execution_count": 16,
   "id": "232cf029",
   "metadata": {
    "execution": {
     "iopub.execute_input": "2024-08-03T15:39:14.994431Z",
     "iopub.status.busy": "2024-08-03T15:39:14.993962Z",
     "iopub.status.idle": "2024-08-03T15:39:15.001835Z",
     "shell.execute_reply": "2024-08-03T15:39:15.000848Z"
    },
    "papermill": {
     "duration": 0.165716,
     "end_time": "2024-08-03T15:39:15.003952",
     "exception": false,
     "start_time": "2024-08-03T15:39:14.838236",
     "status": "completed"
    },
    "tags": []
   },
   "outputs": [],
   "source": [
    "input_2022=array_['input']\n",
    "sh=input_2022.shape\n",
    "input_2022=array_['input'].reshape(sh[0],sh[1],1,sh[2],sh[3])\n",
    "input_2022_2023=np.zeros((26,1,1,sh[2],sh[3]))\n",
    "output_2022_2023=np.zeros((24,1,1,sh[2],sh[3]))\n",
    "input_2022_2023[:14,0,:,:,:]=input_2022[-14:,0,:,:,:]"
   ]
  },
  {
   "cell_type": "code",
   "execution_count": 17,
   "id": "2190dffd",
   "metadata": {
    "execution": {
     "iopub.execute_input": "2024-08-03T15:39:15.313963Z",
     "iopub.status.busy": "2024-08-03T15:39:15.313656Z",
     "iopub.status.idle": "2024-08-03T15:39:15.320209Z",
     "shell.execute_reply": "2024-08-03T15:39:15.319318Z"
    },
    "papermill": {
     "duration": 0.162484,
     "end_time": "2024-08-03T15:39:15.322028",
     "exception": false,
     "start_time": "2024-08-03T15:39:15.159544",
     "status": "completed"
    },
    "tags": []
   },
   "outputs": [
    {
     "data": {
      "text/plain": [
       "(1, 3, 1, 64, 64)"
      ]
     },
     "execution_count": 17,
     "metadata": {},
     "output_type": "execute_result"
    }
   ],
   "source": [
    "input_2022_2023[0:3,0,:,:,:].reshape((1,3,1,sh[2],sh[3])).shape"
   ]
  },
  {
   "cell_type": "code",
   "execution_count": 18,
   "id": "26393137",
   "metadata": {
    "execution": {
     "iopub.execute_input": "2024-08-03T15:39:15.609589Z",
     "iopub.status.busy": "2024-08-03T15:39:15.608857Z",
     "iopub.status.idle": "2024-08-03T15:39:16.220784Z",
     "shell.execute_reply": "2024-08-03T15:39:16.220026Z"
    },
    "papermill": {
     "duration": 0.758929,
     "end_time": "2024-08-03T15:39:16.222784",
     "exception": false,
     "start_time": "2024-08-03T15:39:15.463855",
     "status": "completed"
    },
    "tags": []
   },
   "outputs": [],
   "source": [
    "for i in range(0,24):\n",
    "    dt_input=input_2022_2023[i:i+3,0,:,:,:].reshape((1,3,1,sh[2],sh[3]))\n",
    "    dt_input=torch.from_numpy(dt_input).to(device)\n",
    "    dt_input=dt_input.float()\n",
    "    with torch.no_grad():\n",
    "        pred=net(dt_input)\n",
    "        pred=pred.cpu().numpy()\n",
    "        output_2022_2023[i,:,:,:,:]=pred\n",
    "        if i>11:\n",
    "            input_2022_2023[i+2,0,:,:,:]=pred"
   ]
  },
  {
   "cell_type": "code",
   "execution_count": 19,
   "id": "8b38aa99",
   "metadata": {
    "execution": {
     "iopub.execute_input": "2024-08-03T15:39:16.509738Z",
     "iopub.status.busy": "2024-08-03T15:39:16.509111Z",
     "iopub.status.idle": "2024-08-03T15:39:16.514424Z",
     "shell.execute_reply": "2024-08-03T15:39:16.513650Z"
    },
    "papermill": {
     "duration": 0.150242,
     "end_time": "2024-08-03T15:39:16.516320",
     "exception": false,
     "start_time": "2024-08-03T15:39:16.366078",
     "status": "completed"
    },
    "tags": []
   },
   "outputs": [],
   "source": [
    "with open('output_2022_2023.pkl','wb') as file:\n",
    "    pickle.dump(output_2022_2023.reshape(24,64,64),file)"
   ]
  }
 ],
 "metadata": {
  "kaggle": {
   "accelerator": "nvidiaTeslaT4",
   "dataSources": [
    {
     "datasetId": 5488048,
     "sourceId": 9094176,
     "sourceType": "datasetVersion"
    }
   ],
   "dockerImageVersionId": 30746,
   "isGpuEnabled": true,
   "isInternetEnabled": true,
   "language": "python",
   "sourceType": "notebook"
  },
  "kernelspec": {
   "display_name": "Python 3 (ipykernel)",
   "language": "python",
   "name": "python3"
  },
  "language_info": {
   "codemirror_mode": {
    "name": "ipython",
    "version": 3
   },
   "file_extension": ".py",
   "mimetype": "text/x-python",
   "name": "python",
   "nbconvert_exporter": "python",
   "pygments_lexer": "ipython3",
   "version": "3.8.0"
  },
  "papermill": {
   "default_parameters": {},
   "duration": 167.13348,
   "end_time": "2024-08-03T15:39:18.084388",
   "environment_variables": {},
   "exception": null,
   "input_path": "__notebook__.ipynb",
   "output_path": "__notebook__.ipynb",
   "parameters": {},
   "start_time": "2024-08-03T15:36:30.950908",
   "version": "2.5.0"
  }
 },
 "nbformat": 4,
 "nbformat_minor": 5
}
