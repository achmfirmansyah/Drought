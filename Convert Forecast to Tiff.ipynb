{
 "cells": [
  {
   "cell_type": "code",
   "execution_count": 1,
   "id": "e2f3174b-640f-478e-887c-93b7f0d1c68d",
   "metadata": {},
   "outputs": [],
   "source": [
    "import pickle\n",
    "import rioxarray as rxr\n",
    "import rasterio\n",
    "import numpy as np"
   ]
  },
  {
   "cell_type": "code",
   "execution_count": 2,
   "id": "1420213a-419f-4445-9ea7-d24c7d6b3c6d",
   "metadata": {},
   "outputs": [],
   "source": [
    "with open(\"Output/forecast_results/output_2022_2023.pkl\",'rb') as file:\n",
    "    data_out=pickle.load(file)"
   ]
  },
  {
   "cell_type": "code",
   "execution_count": 3,
   "id": "315d8869-916c-42db-a8cb-b5b445859c1e",
   "metadata": {},
   "outputs": [],
   "source": [
    "data_output=data_out[:,:38,:50]"
   ]
  },
  {
   "cell_type": "code",
   "execution_count": 4,
   "id": "8888175b-7718-47b5-9363-5fe2e32db054",
   "metadata": {},
   "outputs": [
    {
     "data": {
      "text/plain": [
       "(24, 38, 50)"
      ]
     },
     "execution_count": 4,
     "metadata": {},
     "output_type": "execute_result"
    }
   ],
   "source": [
    "data_output.shape"
   ]
  },
  {
   "cell_type": "code",
   "execution_count": 5,
   "id": "dd1dcd81-d7f6-4be2-a8d7-82cd0ec31f12",
   "metadata": {},
   "outputs": [],
   "source": [
    "reference_raster = rxr.open_rasterio('Input/Curah_Hujan.tif')\n",
    "\n",
    "# Get the spatial properties from the reference raster\n",
    "transform = reference_raster.rio.transform()\n",
    "width, height = reference_raster.rio.width, reference_raster.rio.height\n",
    "crs = reference_raster.rio.crs\n",
    "\n",
    "# Create a new multi-band raster dataset\n",
    "with rasterio.open(\n",
    "    'Output/drought_forecast_2022_2023.tif',\n",
    "    'w',\n",
    "    driver='GTiff',\n",
    "    height=height,\n",
    "    width=width,\n",
    "    count=24,\n",
    "    dtype=rasterio.float32,\n",
    "    crs=crs,\n",
    "    transform=transform,\n",
    ") as dst:\n",
    "    for i in range(0,24):\n",
    "        dst.write(data_output[+i,:,:].astype(rasterio.float32), i+1)"
   ]
  }
 ],
 "metadata": {
  "kernelspec": {
   "display_name": "Python 3 (ipykernel)",
   "language": "python",
   "name": "python3"
  },
  "language_info": {
   "codemirror_mode": {
    "name": "ipython",
    "version": 3
   },
   "file_extension": ".py",
   "mimetype": "text/x-python",
   "name": "python",
   "nbconvert_exporter": "python",
   "pygments_lexer": "ipython3",
   "version": "3.8.0"
  }
 },
 "nbformat": 4,
 "nbformat_minor": 5
}
