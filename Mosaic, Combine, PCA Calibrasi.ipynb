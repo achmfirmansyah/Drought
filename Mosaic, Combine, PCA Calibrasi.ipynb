{
 "cells": [
  {
   "cell_type": "code",
   "execution_count": 77,
   "id": "005f85ec-ddbb-487d-aa44-8fe6e781c2af",
   "metadata": {},
   "outputs": [],
   "source": [
    "import rioxarray as rxr\n",
    "import numpy as np\n",
    "from dateutil.relativedelta import relativedelta\n",
    "from datetime import date,datetime\n",
    "import pandas as pd\n",
    "import warnings\n",
    "from tqdm import tqdm\n",
    "import rasterio\n",
    "warnings.filterwarnings(\"ignore\")"
   ]
  },
  {
   "cell_type": "code",
   "execution_count": 4,
   "id": "c398548b-bf4a-44d5-b66d-cc9760ba539e",
   "metadata": {},
   "outputs": [],
   "source": [
    "raster_data = rxr.open_rasterio('Curah_Hujan.tif')\n",
    "mask = raster_data != -9999\n",
    "\n",
    "# Calculate the minimum value excluding -9999\n",
    "min_value_ch = raster_data.where(mask).min()\n",
    "max_value_ch = raster_data.where(mask).max()"
   ]
  },
  {
   "cell_type": "code",
   "execution_count": 5,
   "id": "d2089636-0b28-49fb-bb46-8c9652927e9f",
   "metadata": {},
   "outputs": [],
   "source": [
    "raster_data = rxr.open_rasterio('RH.tif')\n",
    "mask = raster_data != -9999\n",
    "\n",
    "# Calculate the minimum value excluding -9999\n",
    "min_value_rh = raster_data.where(mask).min()\n",
    "max_value_rh = raster_data.where(mask).max()"
   ]
  },
  {
   "cell_type": "code",
   "execution_count": 6,
   "id": "f8daec87-0363-41c6-a945-ae2eb917d414",
   "metadata": {},
   "outputs": [],
   "source": [
    "raster_data = rxr.open_rasterio('TEMPERATUR.tif')\n",
    "mask = raster_data != -9999\n",
    "\n",
    "# Calculate the minimum value excluding -9999\n",
    "min_value_t = raster_data.where(mask).min()\n",
    "max_value_t = raster_data.where(mask).max()"
   ]
  },
  {
   "cell_type": "code",
   "execution_count": 7,
   "id": "a7e55207-2ae0-4b91-9683-a3e867aa2bad",
   "metadata": {},
   "outputs": [],
   "source": [
    "def mosaic_monthly(raster_file,year):\n",
    "    raster_data = rxr.open_rasterio(raster_file)\n",
    "    date_a = date(2011, 1, 1)\n",
    "    ar_year=[]\n",
    "    for i in range(1,13):\n",
    "        date_b = date(year, i, 1)\n",
    "        if i<11:\n",
    "            date_c = date(year, i+1, 1)\n",
    "        else:\n",
    "            date_c = date(year+1,1,1)\n",
    "        days_start=(date_b - date_a).days\n",
    "        days_end=(date_c-date_a).days\n",
    "        bands=raster_data[range(days_start,days_end+1)]\n",
    "        ar_months = np.array([band.values for band in bands])\n",
    "        ar_year.append(ar_months.mean(axis=0))        \n",
    "    return np.array(ar_year)"
   ]
  },
  {
   "cell_type": "code",
   "execution_count": 8,
   "id": "a5160b92-b26b-4216-95be-70a560ce91cc",
   "metadata": {},
   "outputs": [
    {
     "name": "stderr",
     "output_type": "stream",
     "text": [
      "100%|██████████████████████████████████████████████████████████████████████████████████| 12/12 [02:55<00:00, 14.66s/it]\n"
     ]
    }
   ],
   "source": [
    "dict_ch={}\n",
    "for i in tqdm(range(2011,2023)):\n",
    "    ch_mosaic=mosaic_monthly('Curah_Hujan.tif',i)\n",
    "    dict_ch[i]=ch_mosaic"
   ]
  },
  {
   "cell_type": "code",
   "execution_count": 9,
   "id": "56ba0b86-ca5c-4ae8-8841-1e2d9da0ad02",
   "metadata": {},
   "outputs": [
    {
     "name": "stderr",
     "output_type": "stream",
     "text": [
      "100%|██████████████████████████████████████████████████████████████████████████████████| 12/12 [01:44<00:00,  8.72s/it]\n"
     ]
    }
   ],
   "source": [
    "dict_rh={}\n",
    "for i in tqdm(range(2011,2023)):\n",
    "    rh_mosaic=mosaic_monthly('RH.tif',i)\n",
    "    dict_rh[i]=ch_mosaic"
   ]
  },
  {
   "cell_type": "code",
   "execution_count": 10,
   "id": "0f196482-42f7-4a00-99fe-d8c15eacb0ec",
   "metadata": {},
   "outputs": [
    {
     "name": "stderr",
     "output_type": "stream",
     "text": [
      "100%|██████████████████████████████████████████████████████████████████████████████████| 12/12 [02:55<00:00, 14.58s/it]\n"
     ]
    }
   ],
   "source": [
    "dict_t={}\n",
    "for i in tqdm(range(2011,2023)):\n",
    "    t_mosaic=mosaic_monthly('TEMPERATUR.tif',i)\n",
    "    dict_t[i]=t_mosaic"
   ]
  },
  {
   "cell_type": "code",
   "execution_count": 11,
   "id": "716e4a89-3631-4c9b-8970-355e98dbe8e5",
   "metadata": {},
   "outputs": [
    {
     "name": "stdout",
     "output_type": "stream",
     "text": [
      "(163, 38, 50)\n"
     ]
    }
   ],
   "source": [
    "tif_path = 'NDVI_11_24_full.tif'\n",
    "raster = rxr.open_rasterio(tif_path)\n",
    "# Convert the raster data into a NumPy array\n",
    "ndvi_mosaic = raster.values\n",
    "\n",
    "tif_path = 'PDSI_11_24_full.tif'\n",
    "raster = rxr.open_rasterio(tif_path)\n",
    "# Convert the raster data into a NumPy array\n",
    "pdsi_mosaic = raster.values\n",
    "\n",
    "print(ndvi_mosaic.shape)"
   ]
  },
  {
   "cell_type": "code",
   "execution_count": 12,
   "id": "45576d65-d187-4265-a2a1-e0e8c9229425",
   "metadata": {},
   "outputs": [],
   "source": [
    "##get ndvi from 2018-2020 for calibration\n",
    "def months_between(start_date, end_date):\n",
    "  \"\"\"Calculates the number of months between two dates.\"\"\"\n",
    "  diff = relativedelta(end_date, start_date)\n",
    "  return diff.years * 12 + diff.months\n",
    "\n",
    "start_date = datetime(2011, 1, 1)\n",
    "end_date_a = datetime(2018, 1, 1)\n",
    "end_date_b = datetime(2021, 1, 1)\n",
    "months_a = months_between(start_date, end_date_a)\n",
    "months_b = months_between(start_date, end_date_b)"
   ]
  },
  {
   "cell_type": "code",
   "execution_count": 13,
   "id": "077d3863-2039-4b50-b096-fc038539935a",
   "metadata": {},
   "outputs": [],
   "source": [
    "ndvi_cal=ndvi_mosaic[months_a:months_b,:,:]\n",
    "pdsi_cal=pdsi_mosaic[months_a:months_b,:,:]"
   ]
  },
  {
   "cell_type": "code",
   "execution_count": 14,
   "id": "7ec43e7b-4254-45af-a932-60e5f9d8eb16",
   "metadata": {},
   "outputs": [
    {
     "data": {
      "text/plain": [
       "(36, 38, 50)"
      ]
     },
     "execution_count": 14,
     "metadata": {},
     "output_type": "execute_result"
    }
   ],
   "source": [
    "ndvi_cal.shape"
   ]
  },
  {
   "cell_type": "code",
   "execution_count": 15,
   "id": "af5ff48d-7b88-40e9-b403-ac56657747b3",
   "metadata": {},
   "outputs": [],
   "source": [
    "ch_cal=[]\n",
    "rh_cal=[]\n",
    "t_cal=[]\n",
    "for i in [2018,2019,2020]:\n",
    "    ch_cal.extend(dict_ch[i])\n",
    "    rh_cal.extend(dict_rh[i])\n",
    "    t_cal.extend(dict_t[i])\n",
    "ch_cal=np.array(ch_cal)\n",
    "rh_cal=np.array(rh_cal)\n",
    "t_cal=np.array(t_cal)"
   ]
  },
  {
   "cell_type": "code",
   "execution_count": 16,
   "id": "29d55863-59ab-454a-be6e-83879624cf0a",
   "metadata": {},
   "outputs": [
    {
     "data": {
      "text/plain": [
       "(36, 38, 50)"
      ]
     },
     "execution_count": 16,
     "metadata": {},
     "output_type": "execute_result"
    }
   ],
   "source": [
    "ch_cal.shape"
   ]
  },
  {
   "cell_type": "code",
   "execution_count": 17,
   "id": "dac049b6-02e3-45e1-9bf1-327f35491b38",
   "metadata": {},
   "outputs": [
    {
     "data": {
      "text/plain": [
       "(36, 38, 50)"
      ]
     },
     "execution_count": 17,
     "metadata": {},
     "output_type": "execute_result"
    }
   ],
   "source": [
    "ndvi_cal.shape"
   ]
  },
  {
   "cell_type": "code",
   "execution_count": 19,
   "id": "514ba162-2085-4e86-a975-08cbfbc962fe",
   "metadata": {},
   "outputs": [],
   "source": [
    "dt_gab=np.array([ch_cal,rh_cal,t_cal,ndvi_cal,pdsi_cal])"
   ]
  },
  {
   "cell_type": "code",
   "execution_count": 20,
   "id": "04ac3cdc-4484-42c7-8af3-f1e2de39a78a",
   "metadata": {},
   "outputs": [],
   "source": [
    "dict_df={}\n",
    "for i in range(0,dt_gab.shape[0]):\n",
    "    dict_df[i]=dt_gab[i,:,:,:].ravel()"
   ]
  },
  {
   "cell_type": "code",
   "execution_count": 21,
   "id": "807bbd20-0dce-4362-96b8-ffca7631467a",
   "metadata": {},
   "outputs": [],
   "source": [
    "data_=pd.DataFrame(dict_df)\n",
    "data_.columns=['ch','rh','t','ndvi','pdsi']"
   ]
  },
  {
   "cell_type": "code",
   "execution_count": 22,
   "id": "e011a641-79be-40dc-a924-401beda7db7b",
   "metadata": {},
   "outputs": [
    {
     "data": {
      "text/html": [
       "<div>\n",
       "<style scoped>\n",
       "    .dataframe tbody tr th:only-of-type {\n",
       "        vertical-align: middle;\n",
       "    }\n",
       "\n",
       "    .dataframe tbody tr th {\n",
       "        vertical-align: top;\n",
       "    }\n",
       "\n",
       "    .dataframe thead th {\n",
       "        text-align: right;\n",
       "    }\n",
       "</style>\n",
       "<table border=\"1\" class=\"dataframe\">\n",
       "  <thead>\n",
       "    <tr style=\"text-align: right;\">\n",
       "      <th></th>\n",
       "      <th>ch</th>\n",
       "      <th>rh</th>\n",
       "      <th>t</th>\n",
       "      <th>ndvi</th>\n",
       "      <th>pdsi</th>\n",
       "    </tr>\n",
       "  </thead>\n",
       "  <tbody>\n",
       "    <tr>\n",
       "      <th>count</th>\n",
       "      <td>68400.000000</td>\n",
       "      <td>68400.000000</td>\n",
       "      <td>68400.000000</td>\n",
       "      <td>68400.000000</td>\n",
       "      <td>68400.000000</td>\n",
       "    </tr>\n",
       "    <tr>\n",
       "      <th>mean</th>\n",
       "      <td>-2873.774868</td>\n",
       "      <td>-2872.166159</td>\n",
       "      <td>-2860.660001</td>\n",
       "      <td>4061.369370</td>\n",
       "      <td>-25.371707</td>\n",
       "    </tr>\n",
       "    <tr>\n",
       "      <th>std</th>\n",
       "      <td>4530.507068</td>\n",
       "      <td>4531.529385</td>\n",
       "      <td>4538.843494</td>\n",
       "      <td>3209.697544</td>\n",
       "      <td>211.458858</td>\n",
       "    </tr>\n",
       "    <tr>\n",
       "      <th>min</th>\n",
       "      <td>-9999.000000</td>\n",
       "      <td>-9999.000000</td>\n",
       "      <td>-9999.000000</td>\n",
       "      <td>-596.171692</td>\n",
       "      <td>-666.798401</td>\n",
       "    </tr>\n",
       "    <tr>\n",
       "      <th>25%</th>\n",
       "      <td>-9999.000000</td>\n",
       "      <td>-9999.000000</td>\n",
       "      <td>-9999.000000</td>\n",
       "      <td>0.000000</td>\n",
       "      <td>-169.093826</td>\n",
       "    </tr>\n",
       "    <tr>\n",
       "      <th>50%</th>\n",
       "      <td>2.111723</td>\n",
       "      <td>5.740680</td>\n",
       "      <td>23.891897</td>\n",
       "      <td>5109.361816</td>\n",
       "      <td>0.000000</td>\n",
       "    </tr>\n",
       "    <tr>\n",
       "      <th>75%</th>\n",
       "      <td>8.646669</td>\n",
       "      <td>10.409944</td>\n",
       "      <td>26.499000</td>\n",
       "      <td>6980.412598</td>\n",
       "      <td>100.837158</td>\n",
       "    </tr>\n",
       "    <tr>\n",
       "      <th>max</th>\n",
       "      <td>71.198967</td>\n",
       "      <td>49.781847</td>\n",
       "      <td>31.230450</td>\n",
       "      <td>8960.260742</td>\n",
       "      <td>949.697388</td>\n",
       "    </tr>\n",
       "  </tbody>\n",
       "</table>\n",
       "</div>"
      ],
      "text/plain": [
       "                 ch            rh             t          ndvi          pdsi\n",
       "count  68400.000000  68400.000000  68400.000000  68400.000000  68400.000000\n",
       "mean   -2873.774868  -2872.166159  -2860.660001   4061.369370    -25.371707\n",
       "std     4530.507068   4531.529385   4538.843494   3209.697544    211.458858\n",
       "min    -9999.000000  -9999.000000  -9999.000000   -596.171692   -666.798401\n",
       "25%    -9999.000000  -9999.000000  -9999.000000      0.000000   -169.093826\n",
       "50%        2.111723      5.740680     23.891897   5109.361816      0.000000\n",
       "75%        8.646669     10.409944     26.499000   6980.412598    100.837158\n",
       "max       71.198967     49.781847     31.230450   8960.260742    949.697388"
      ]
     },
     "execution_count": 22,
     "metadata": {},
     "output_type": "execute_result"
    }
   ],
   "source": [
    "data_.describe()"
   ]
  },
  {
   "cell_type": "code",
   "execution_count": 23,
   "id": "62ef2e45-3005-4a59-8373-e85f1389c758",
   "metadata": {},
   "outputs": [],
   "source": [
    "data_['ndvi'].replace(0,-9999,inplace=True)\n",
    "data_['ndvi'].replace(-9999,np.nan,inplace=True)\n",
    "data_['pdsi'].replace(0,-9999,inplace=True)\n",
    "data_['pdsi'].replace(-9999,np.nan,inplace=True)\n",
    "data_['ch'].replace(-9999,np.nan,inplace=True)\n",
    "data_['rh'].replace(-9999,np.nan,inplace=True)\n",
    "data_['t'].replace(-9999,np.nan,inplace=True)"
   ]
  },
  {
   "cell_type": "code",
   "execution_count": 24,
   "id": "604b0722-88e3-4067-afce-c4d15c14c551",
   "metadata": {},
   "outputs": [],
   "source": [
    "data_.dropna(inplace=True)"
   ]
  },
  {
   "cell_type": "code",
   "execution_count": 25,
   "id": "d148734d-bccc-43d1-bcd1-b08a3c272420",
   "metadata": {},
   "outputs": [],
   "source": [
    "data_['ndvi']=data_.ndvi*0.0001\n",
    "data_['pdsi']=data_.pdsi*0.01"
   ]
  },
  {
   "cell_type": "code",
   "execution_count": 26,
   "id": "2327a9ca-54a5-47a0-8dae-1d3f0051c595",
   "metadata": {},
   "outputs": [
    {
     "name": "stderr",
     "output_type": "stream",
     "text": [
      "Matplotlib is building the font cache; this may take a moment.\n"
     ]
    }
   ],
   "source": [
    "from sklearn.decomposition import PCA\n",
    "import matplotlib.pyplot as plt\n",
    "from sklearn.preprocessing import StandardScaler"
   ]
  },
  {
   "cell_type": "code",
   "execution_count": 27,
   "id": "8ffba7ec-a020-4ebc-8a56-50ba7822c254",
   "metadata": {},
   "outputs": [],
   "source": [
    "data_['PCI']=data_.ch.apply(lambda y: (y-min_value_ch.values)/(max_value_ch.values-min_value_ch.values))\n",
    "data_['TCI']=data_.rh.apply(lambda y: (y-min_value_rh.values)/(max_value_ch.values-min_value_rh.values))\n",
    "data_['HCI']=data_.t.apply(lambda y: (y-min_value_t.values)/(max_value_ch.values-min_value_t.values))\n",
    "data_['VCI']=data_.ndvi.apply(lambda y:(y+1)/2)"
   ]
  },
  {
   "cell_type": "code",
   "execution_count": 28,
   "id": "8818d183-9079-440d-9e8b-c234775099d9",
   "metadata": {},
   "outputs": [
    {
     "data": {
      "text/html": [
       "<div>\n",
       "<style scoped>\n",
       "    .dataframe tbody tr th:only-of-type {\n",
       "        vertical-align: middle;\n",
       "    }\n",
       "\n",
       "    .dataframe tbody tr th {\n",
       "        vertical-align: top;\n",
       "    }\n",
       "\n",
       "    .dataframe thead th {\n",
       "        text-align: right;\n",
       "    }\n",
       "</style>\n",
       "<table border=\"1\" class=\"dataframe\">\n",
       "  <thead>\n",
       "    <tr style=\"text-align: right;\">\n",
       "      <th></th>\n",
       "      <th>ch</th>\n",
       "      <th>rh</th>\n",
       "      <th>t</th>\n",
       "      <th>ndvi</th>\n",
       "      <th>pdsi</th>\n",
       "      <th>PCI</th>\n",
       "      <th>TCI</th>\n",
       "      <th>HCI</th>\n",
       "      <th>VCI</th>\n",
       "    </tr>\n",
       "  </thead>\n",
       "  <tbody>\n",
       "    <tr>\n",
       "      <th>64</th>\n",
       "      <td>6.905207</td>\n",
       "      <td>10.034141</td>\n",
       "      <td>27.910044</td>\n",
       "      <td>-0.036698</td>\n",
       "      <td>1.538657</td>\n",
       "      <td>0.020090</td>\n",
       "      <td>0.989923</td>\n",
       "      <td>0.03582</td>\n",
       "      <td>0.481651</td>\n",
       "    </tr>\n",
       "    <tr>\n",
       "      <th>65</th>\n",
       "      <td>6.263153</td>\n",
       "      <td>9.347418</td>\n",
       "      <td>27.919864</td>\n",
       "      <td>0.101825</td>\n",
       "      <td>1.482642</td>\n",
       "      <td>0.018222</td>\n",
       "      <td>0.989902</td>\n",
       "      <td>0.03585</td>\n",
       "      <td>0.550912</td>\n",
       "    </tr>\n",
       "  </tbody>\n",
       "</table>\n",
       "</div>"
      ],
      "text/plain": [
       "          ch         rh          t      ndvi      pdsi       PCI       TCI  \\\n",
       "64  6.905207  10.034141  27.910044 -0.036698  1.538657  0.020090  0.989923   \n",
       "65  6.263153   9.347418  27.919864  0.101825  1.482642  0.018222  0.989902   \n",
       "\n",
       "        HCI       VCI  \n",
       "64  0.03582  0.481651  \n",
       "65  0.03585  0.550912  "
      ]
     },
     "execution_count": 28,
     "metadata": {},
     "output_type": "execute_result"
    }
   ],
   "source": [
    "data_.head(2)"
   ]
  },
  {
   "cell_type": "code",
   "execution_count": 29,
   "id": "908e63dd-75dc-439a-bcb1-0aadd05be6da",
   "metadata": {},
   "outputs": [
    {
     "data": {
      "image/png": "[encoded data removed]",
      "text/plain": [
       "<Figure size 640x480 with 1 Axes>"
      ]
     },
     "metadata": {},
     "output_type": "display_data"
    }
   ],
   "source": [
    "data_scaled=data_[['PCI','TCI','HCI','VCI']].values\n",
    "\n",
    "# Apply PCA\n",
    "pca = PCA()\n",
    "pca.fit(data_scaled)\n",
    "\n",
    "# Create scree plot\n",
    "plt.plot(np.cumsum(pca.explained_variance_ratio_))\n",
    "plt.xlabel('Number of Components')\n",
    "plt.ylabel('Cumulative Explained Variance')\n",
    "plt.title('Scree Plot')\n",
    "plt.show()"
   ]
  },
  {
   "cell_type": "code",
   "execution_count": 30,
   "id": "095f1177-8d7f-4a75-9aa5-c44e9ff15baa",
   "metadata": {},
   "outputs": [
    {
     "name": "stdout",
     "output_type": "stream",
     "text": [
      "[[-0.32776335]\n",
      " [-0.25860738]\n",
      " [-0.17927768]\n",
      " ...\n",
      " [ 0.04235179]\n",
      " [ 0.04712262]\n",
      " [-0.02391387]]\n"
     ]
    }
   ],
   "source": [
    "pca = PCA(n_components=1)  # Reduce to one dimension\n",
    "# Fit and transform the data\n",
    "X_reduced = pca.fit_transform(data_scaled)\n",
    "print(X_reduced)"
   ]
  },
  {
   "cell_type": "code",
   "execution_count": 31,
   "id": "0ac4f77d-9af1-4e8a-92c2-96b33d4bbf9d",
   "metadata": {},
   "outputs": [],
   "source": [
    "data_['PC1']=X_reduced[:,0]"
   ]
  },
  {
   "cell_type": "code",
   "execution_count": 32,
   "id": "7d27cb18-072f-40bd-a789-e6282b2bffde",
   "metadata": {},
   "outputs": [
    {
     "name": "stdout",
     "output_type": "stream",
     "text": [
      "Best parameters: {'learning_rate': 0.01, 'max_depth': 3, 'n_estimators': 200}\n",
      "Best cross-validation score: 8.111390043893053\n"
     ]
    }
   ],
   "source": [
    "from sklearn.ensemble import GradientBoostingRegressor\n",
    "from sklearn.model_selection import cross_val_score,GridSearchCV\n",
    "from sklearn.model_selection import train_test_split\n",
    "\n",
    "\n",
    "X, y = data_[['PC1']], data_['pdsi']\n",
    "X_train, X_test, y_train, y_test = train_test_split(X, y, test_size=0.2, random_state=42)\n",
    "\n",
    "gb_reg = GradientBoostingRegressor()\n",
    "\n",
    "# Define parameter grid for cross-validation\n",
    "param_grid = {\n",
    "    'n_estimators': [100, 200, 300],\n",
    "    'learning_rate': [0.1, 0.05, 0.01],\n",
    "    'max_depth': [3, 4, 5]\n",
    "}\n",
    "\n",
    "# Perform grid search with cross-validation\n",
    "grid_search = GridSearchCV(gb_reg, param_grid, cv=5, scoring='neg_mean_squared_error')\n",
    "grid_search.fit(X, y)\n",
    "\n",
    "# Print best parameters and cross-validation score\n",
    "print(\"Best parameters:\", grid_search.best_params_)\n",
    "print(\"Best cross-validation score:\", -grid_search.best_score_) "
   ]
  },
  {
   "cell_type": "code",
   "execution_count": 33,
   "id": "a3711da5-c25c-4645-8570-95bd75b5f85b",
   "metadata": {},
   "outputs": [],
   "source": [
    "gb_reg_model=GradientBoostingRegressor(n_estimators=200,max_depth=3,learning_rate=0.01)"
   ]
  },
  {
   "cell_type": "code",
   "execution_count": 34,
   "id": "af85f44e-592d-4289-84f5-2f09b39b7148",
   "metadata": {},
   "outputs": [
    {
     "data": {
      "text/html": [
       "<style>#sk-container-id-1 {\n",
       "  /* Definition of color scheme common for light and dark mode */\n",
       "  --sklearn-color-text: black;\n",
       "  --sklearn-color-line: gray;\n",
       "  /* Definition of color scheme for unfitted estimators */\n",
       "  --sklearn-color-unfitted-level-0: #fff5e6;\n",
       "  --sklearn-color-unfitted-level-1: #f6e4d2;\n",
       "  --sklearn-color-unfitted-level-2: #ffe0b3;\n",
       "  --sklearn-color-unfitted-level-3: chocolate;\n",
       "  /* Definition of color scheme for fitted estimators */\n",
       "  --sklearn-color-fitted-level-0: #f0f8ff;\n",
       "  --sklearn-color-fitted-level-1: #d4ebff;\n",
       "  --sklearn-color-fitted-level-2: #b3dbfd;\n",
       "  --sklearn-color-fitted-level-3: cornflowerblue;\n",
       "\n",
       "  /* Specific color for light theme */\n",
       "  --sklearn-color-text-on-default-background: var(--sg-text-color, var(--theme-code-foreground, var(--jp-content-font-color1, black)));\n",
       "  --sklearn-color-background: var(--sg-background-color, var(--theme-background, var(--jp-layout-color0, white)));\n",
       "  --sklearn-color-border-box: var(--sg-text-color, var(--theme-code-foreground, var(--jp-content-font-color1, black)));\n",
       "  --sklearn-color-icon: #696969;\n",
       "\n",
       "  @media (prefers-color-scheme: dark) {\n",
       "    /* Redefinition of color scheme for dark theme */\n",
       "    --sklearn-color-text-on-default-background: var(--sg-text-color, var(--theme-code-foreground, var(--jp-content-font-color1, white)));\n",
       "    --sklearn-color-background: var(--sg-background-color, var(--theme-background, var(--jp-layout-color0, #111)));\n",
       "    --sklearn-color-border-box: var(--sg-text-color, var(--theme-code-foreground, var(--jp-content-font-color1, white)));\n",
       "    --sklearn-color-icon: #878787;\n",
       "  }\n",
       "}\n",
       "\n",
       "#sk-container-id-1 {\n",
       "  color: var(--sklearn-color-text);\n",
       "}\n",
       "\n",
       "#sk-container-id-1 pre {\n",
       "  padding: 0;\n",
       "}\n",
       "\n",
       "#sk-container-id-1 input.sk-hidden--visually {\n",
       "  border: 0;\n",
       "  clip: rect(1px 1px 1px 1px);\n",
       "  clip: rect(1px, 1px, 1px, 1px);\n",
       "  height: 1px;\n",
       "  margin: -1px;\n",
       "  overflow: hidden;\n",
       "  padding: 0;\n",
       "  position: absolute;\n",
       "  width: 1px;\n",
       "}\n",
       "\n",
       "#sk-container-id-1 div.sk-dashed-wrapped {\n",
       "  border: 1px dashed var(--sklearn-color-line);\n",
       "  margin: 0 0.4em 0.5em 0.4em;\n",
       "  box-sizing: border-box;\n",
       "  padding-bottom: 0.4em;\n",
       "  background-color: var(--sklearn-color-background);\n",
       "}\n",
       "\n",
       "#sk-container-id-1 div.sk-container {\n",
       "  /* jupyter's `normalize.less` sets `[hidden] { display: none; }`\n",
       "     but bootstrap.min.css set `[hidden] { display: none !important; }`\n",
       "     so we also need the `!important` here to be able to override the\n",
       "     default hidden behavior on the sphinx rendered scikit-learn.org.\n",
       "     See: https://github.com/scikit-learn/scikit-learn/issues/21755 */\n",
       "  display: inline-block !important;\n",
       "  position: relative;\n",
       "}\n",
       "\n",
       "#sk-container-id-1 div.sk-text-repr-fallback {\n",
       "  display: none;\n",
       "}\n",
       "\n",
       "div.sk-parallel-item,\n",
       "div.sk-serial,\n",
       "div.sk-item {\n",
       "  /* draw centered vertical line to link estimators */\n",
       "  background-image: linear-gradient(var(--sklearn-color-text-on-default-background), var(--sklearn-color-text-on-default-background));\n",
       "  background-size: 2px 100%;\n",
       "  background-repeat: no-repeat;\n",
       "  background-position: center center;\n",
       "}\n",
       "\n",
       "/* Parallel-specific style estimator block */\n",
       "\n",
       "#sk-container-id-1 div.sk-parallel-item::after {\n",
       "  content: \"\";\n",
       "  width: 100%;\n",
       "  border-bottom: 2px solid var(--sklearn-color-text-on-default-background);\n",
       "  flex-grow: 1;\n",
       "}\n",
       "\n",
       "#sk-container-id-1 div.sk-parallel {\n",
       "  display: flex;\n",
       "  align-items: stretch;\n",
       "  justify-content: center;\n",
       "  background-color: var(--sklearn-color-background);\n",
       "  position: relative;\n",
       "}\n",
       "\n",
       "#sk-container-id-1 div.sk-parallel-item {\n",
       "  display: flex;\n",
       "  flex-direction: column;\n",
       "}\n",
       "\n",
       "#sk-container-id-1 div.sk-parallel-item:first-child::after {\n",
       "  align-self: flex-end;\n",
       "  width: 50%;\n",
       "}\n",
       "\n",
       "#sk-container-id-1 div.sk-parallel-item:last-child::after {\n",
       "  align-self: flex-start;\n",
       "  width: 50%;\n",
       "}\n",
       "\n",
       "#sk-container-id-1 div.sk-parallel-item:only-child::after {\n",
       "  width: 0;\n",
       "}\n",
       "\n",
       "/* Serial-specific style estimator block */\n",
       "\n",
       "#sk-container-id-1 div.sk-serial {\n",
       "  display: flex;\n",
       "  flex-direction: column;\n",
       "  align-items: center;\n",
       "  background-color: var(--sklearn-color-background);\n",
       "  padding-right: 1em;\n",
       "  padding-left: 1em;\n",
       "}\n",
       "\n",
       "\n",
       "/* Toggleable style: style used for estimator/Pipeline/ColumnTransformer box that is\n",
       "clickable and can be expanded/collapsed.\n",
       "- Pipeline and ColumnTransformer use this feature and define the default style\n",
       "- Estimators will overwrite some part of the style using the `sk-estimator` class\n",
       "*/\n",
       "\n",
       "/* Pipeline and ColumnTransformer style (default) */\n",
       "\n",
       "#sk-container-id-1 div.sk-toggleable {\n",
       "  /* Default theme specific background. It is overwritten whether we have a\n",
       "  specific estimator or a Pipeline/ColumnTransformer */\n",
       "  background-color: var(--sklearn-color-background);\n",
       "}\n",
       "\n",
       "/* Toggleable label */\n",
       "#sk-container-id-1 label.sk-toggleable__label {\n",
       "  cursor: pointer;\n",
       "  display: block;\n",
       "  width: 100%;\n",
       "  margin-bottom: 0;\n",
       "  padding: 0.5em;\n",
       "  box-sizing: border-box;\n",
       "  text-align: center;\n",
       "}\n",
       "\n",
       "#sk-container-id-1 label.sk-toggleable__label-arrow:before {\n",
       "  /* Arrow on the left of the label */\n",
       "  content: \"▸\";\n",
       "  float: left;\n",
       "  margin-right: 0.25em;\n",
       "  color: var(--sklearn-color-icon);\n",
       "}\n",
       "\n",
       "#sk-container-id-1 label.sk-toggleable__label-arrow:hover:before {\n",
       "  color: var(--sklearn-color-text);\n",
       "}\n",
       "\n",
       "/* Toggleable content - dropdown */\n",
       "\n",
       "#sk-container-id-1 div.sk-toggleable__content {\n",
       "  max-height: 0;\n",
       "  max-width: 0;\n",
       "  overflow: hidden;\n",
       "  text-align: left;\n",
       "  /* unfitted */\n",
       "  background-color: var(--sklearn-color-unfitted-level-0);\n",
       "}\n",
       "\n",
       "#sk-container-id-1 div.sk-toggleable__content.fitted {\n",
       "  /* fitted */\n",
       "  background-color: var(--sklearn-color-fitted-level-0);\n",
       "}\n",
       "\n",
       "#sk-container-id-1 div.sk-toggleable__content pre {\n",
       "  margin: 0.2em;\n",
       "  border-radius: 0.25em;\n",
       "  color: var(--sklearn-color-text);\n",
       "  /* unfitted */\n",
       "  background-color: var(--sklearn-color-unfitted-level-0);\n",
       "}\n",
       "\n",
       "#sk-container-id-1 div.sk-toggleable__content.fitted pre {\n",
       "  /* unfitted */\n",
       "  background-color: var(--sklearn-color-fitted-level-0);\n",
       "}\n",
       "\n",
       "#sk-container-id-1 input.sk-toggleable__control:checked~div.sk-toggleable__content {\n",
       "  /* Expand drop-down */\n",
       "  max-height: 200px;\n",
       "  max-width: 100%;\n",
       "  overflow: auto;\n",
       "}\n",
       "\n",
       "#sk-container-id-1 input.sk-toggleable__control:checked~label.sk-toggleable__label-arrow:before {\n",
       "  content: \"▾\";\n",
       "}\n",
       "\n",
       "/* Pipeline/ColumnTransformer-specific style */\n",
       "\n",
       "#sk-container-id-1 div.sk-label input.sk-toggleable__control:checked~label.sk-toggleable__label {\n",
       "  color: var(--sklearn-color-text);\n",
       "  background-color: var(--sklearn-color-unfitted-level-2);\n",
       "}\n",
       "\n",
       "#sk-container-id-1 div.sk-label.fitted input.sk-toggleable__control:checked~label.sk-toggleable__label {\n",
       "  background-color: var(--sklearn-color-fitted-level-2);\n",
       "}\n",
       "\n",
       "/* Estimator-specific style */\n",
       "\n",
       "/* Colorize estimator box */\n",
       "#sk-container-id-1 div.sk-estimator input.sk-toggleable__control:checked~label.sk-toggleable__label {\n",
       "  /* unfitted */\n",
       "  background-color: var(--sklearn-color-unfitted-level-2);\n",
       "}\n",
       "\n",
       "#sk-container-id-1 div.sk-estimator.fitted input.sk-toggleable__control:checked~label.sk-toggleable__label {\n",
       "  /* fitted */\n",
       "  background-color: var(--sklearn-color-fitted-level-2);\n",
       "}\n",
       "\n",
       "#sk-container-id-1 div.sk-label label.sk-toggleable__label,\n",
       "#sk-container-id-1 div.sk-label label {\n",
       "  /* The background is the default theme color */\n",
       "  color: var(--sklearn-color-text-on-default-background);\n",
       "}\n",
       "\n",
       "/* On hover, darken the color of the background */\n",
       "#sk-container-id-1 div.sk-label:hover label.sk-toggleable__label {\n",
       "  color: var(--sklearn-color-text);\n",
       "  background-color: var(--sklearn-color-unfitted-level-2);\n",
       "}\n",
       "\n",
       "/* Label box, darken color on hover, fitted */\n",
       "#sk-container-id-1 div.sk-label.fitted:hover label.sk-toggleable__label.fitted {\n",
       "  color: var(--sklearn-color-text);\n",
       "  background-color: var(--sklearn-color-fitted-level-2);\n",
       "}\n",
       "\n",
       "/* Estimator label */\n",
       "\n",
       "#sk-container-id-1 div.sk-label label {\n",
       "  font-family: monospace;\n",
       "  font-weight: bold;\n",
       "  display: inline-block;\n",
       "  line-height: 1.2em;\n",
       "}\n",
       "\n",
       "#sk-container-id-1 div.sk-label-container {\n",
       "  text-align: center;\n",
       "}\n",
       "\n",
       "/* Estimator-specific */\n",
       "#sk-container-id-1 div.sk-estimator {\n",
       "  font-family: monospace;\n",
       "  border: 1px dotted var(--sklearn-color-border-box);\n",
       "  border-radius: 0.25em;\n",
       "  box-sizing: border-box;\n",
       "  margin-bottom: 0.5em;\n",
       "  /* unfitted */\n",
       "  background-color: var(--sklearn-color-unfitted-level-0);\n",
       "}\n",
       "\n",
       "#sk-container-id-1 div.sk-estimator.fitted {\n",
       "  /* fitted */\n",
       "  background-color: var(--sklearn-color-fitted-level-0);\n",
       "}\n",
       "\n",
       "/* on hover */\n",
       "#sk-container-id-1 div.sk-estimator:hover {\n",
       "  /* unfitted */\n",
       "  background-color: var(--sklearn-color-unfitted-level-2);\n",
       "}\n",
       "\n",
       "#sk-container-id-1 div.sk-estimator.fitted:hover {\n",
       "  /* fitted */\n",
       "  background-color: var(--sklearn-color-fitted-level-2);\n",
       "}\n",
       "\n",
       "/* Specification for estimator info (e.g. \"i\" and \"?\") */\n",
       "\n",
       "/* Common style for \"i\" and \"?\" */\n",
       "\n",
       ".sk-estimator-doc-link,\n",
       "a:link.sk-estimator-doc-link,\n",
       "a:visited.sk-estimator-doc-link {\n",
       "  float: right;\n",
       "  font-size: smaller;\n",
       "  line-height: 1em;\n",
       "  font-family: monospace;\n",
       "  background-color: var(--sklearn-color-background);\n",
       "  border-radius: 1em;\n",
       "  height: 1em;\n",
       "  width: 1em;\n",
       "  text-decoration: none !important;\n",
       "  margin-left: 1ex;\n",
       "  /* unfitted */\n",
       "  border: var(--sklearn-color-unfitted-level-1) 1pt solid;\n",
       "  color: var(--sklearn-color-unfitted-level-1);\n",
       "}\n",
       "\n",
       ".sk-estimator-doc-link.fitted,\n",
       "a:link.sk-estimator-doc-link.fitted,\n",
       "a:visited.sk-estimator-doc-link.fitted {\n",
       "  /* fitted */\n",
       "  border: var(--sklearn-color-fitted-level-1) 1pt solid;\n",
       "  color: var(--sklearn-color-fitted-level-1);\n",
       "}\n",
       "\n",
       "/* On hover */\n",
       "div.sk-estimator:hover .sk-estimator-doc-link:hover,\n",
       ".sk-estimator-doc-link:hover,\n",
       "div.sk-label-container:hover .sk-estimator-doc-link:hover,\n",
       ".sk-estimator-doc-link:hover {\n",
       "  /* unfitted */\n",
       "  background-color: var(--sklearn-color-unfitted-level-3);\n",
       "  color: var(--sklearn-color-background);\n",
       "  text-decoration: none;\n",
       "}\n",
       "\n",
       "div.sk-estimator.fitted:hover .sk-estimator-doc-link.fitted:hover,\n",
       ".sk-estimator-doc-link.fitted:hover,\n",
       "div.sk-label-container:hover .sk-estimator-doc-link.fitted:hover,\n",
       ".sk-estimator-doc-link.fitted:hover {\n",
       "  /* fitted */\n",
       "  background-color: var(--sklearn-color-fitted-level-3);\n",
       "  color: var(--sklearn-color-background);\n",
       "  text-decoration: none;\n",
       "}\n",
       "\n",
       "/* Span, style for the box shown on hovering the info icon */\n",
       ".sk-estimator-doc-link span {\n",
       "  display: none;\n",
       "  z-index: 9999;\n",
       "  position: relative;\n",
       "  font-weight: normal;\n",
       "  right: .2ex;\n",
       "  padding: .5ex;\n",
       "  margin: .5ex;\n",
       "  width: min-content;\n",
       "  min-width: 20ex;\n",
       "  max-width: 50ex;\n",
       "  color: var(--sklearn-color-text);\n",
       "  box-shadow: 2pt 2pt 4pt #999;\n",
       "  /* unfitted */\n",
       "  background: var(--sklearn-color-unfitted-level-0);\n",
       "  border: .5pt solid var(--sklearn-color-unfitted-level-3);\n",
       "}\n",
       "\n",
       ".sk-estimator-doc-link.fitted span {\n",
       "  /* fitted */\n",
       "  background: var(--sklearn-color-fitted-level-0);\n",
       "  border: var(--sklearn-color-fitted-level-3);\n",
       "}\n",
       "\n",
       ".sk-estimator-doc-link:hover span {\n",
       "  display: block;\n",
       "}\n",
       "\n",
       "/* \"?\"-specific style due to the `<a>` HTML tag */\n",
       "\n",
       "#sk-container-id-1 a.estimator_doc_link {\n",
       "  float: right;\n",
       "  font-size: 1rem;\n",
       "  line-height: 1em;\n",
       "  font-family: monospace;\n",
       "  background-color: var(--sklearn-color-background);\n",
       "  border-radius: 1rem;\n",
       "  height: 1rem;\n",
       "  width: 1rem;\n",
       "  text-decoration: none;\n",
       "  /* unfitted */\n",
       "  color: var(--sklearn-color-unfitted-level-1);\n",
       "  border: var(--sklearn-color-unfitted-level-1) 1pt solid;\n",
       "}\n",
       "\n",
       "#sk-container-id-1 a.estimator_doc_link.fitted {\n",
       "  /* fitted */\n",
       "  border: var(--sklearn-color-fitted-level-1) 1pt solid;\n",
       "  color: var(--sklearn-color-fitted-level-1);\n",
       "}\n",
       "\n",
       "/* On hover */\n",
       "#sk-container-id-1 a.estimator_doc_link:hover {\n",
       "  /* unfitted */\n",
       "  background-color: var(--sklearn-color-unfitted-level-3);\n",
       "  color: var(--sklearn-color-background);\n",
       "  text-decoration: none;\n",
       "}\n",
       "\n",
       "#sk-container-id-1 a.estimator_doc_link.fitted:hover {\n",
       "  /* fitted */\n",
       "  background-color: var(--sklearn-color-fitted-level-3);\n",
       "}\n",
       "</style><div id=\"sk-container-id-1\" class=\"sk-top-container\"><div class=\"sk-text-repr-fallback\"><pre>GradientBoostingRegressor(learning_rate=0.01, n_estimators=200)</pre><b>In a Jupyter environment, please rerun this cell to show the HTML representation or trust the notebook. <br />On GitHub, the HTML representation is unable to render, please try loading this page with nbviewer.org.</b></div><div class=\"sk-container\" hidden><div class=\"sk-item\"><div class=\"sk-estimator fitted sk-toggleable\"><input class=\"sk-toggleable__control sk-hidden--visually\" id=\"sk-estimator-id-1\" type=\"checkbox\" checked><label for=\"sk-estimator-id-1\" class=\"sk-toggleable__label fitted sk-toggleable__label-arrow fitted\">&nbsp;&nbsp;GradientBoostingRegressor<a class=\"sk-estimator-doc-link fitted\" rel=\"noreferrer\" target=\"_blank\" href=\"https://scikit-learn.org/1.5/modules/generated/sklearn.ensemble.GradientBoostingRegressor.html\">?<span>Documentation for GradientBoostingRegressor</span></a><span class=\"sk-estimator-doc-link fitted\">i<span>Fitted</span></span></label><div class=\"sk-toggleable__content fitted\"><pre>GradientBoostingRegressor(learning_rate=0.01, n_estimators=200)</pre></div> </div></div></div></div>"
      ],
      "text/plain": [
       "GradientBoostingRegressor(learning_rate=0.01, n_estimators=200)"
      ]
     },
     "execution_count": 34,
     "metadata": {},
     "output_type": "execute_result"
    }
   ],
   "source": [
    "gb_reg_model.fit(X,y)"
   ]
  },
  {
   "cell_type": "code",
   "execution_count": 35,
   "id": "4a03e8e4-5691-48f4-9970-64375dfb501c",
   "metadata": {},
   "outputs": [],
   "source": [
    "import pickle\n",
    "with open('model_and_pca.pickle','wb') as file:\n",
    "    pickle.dump({'model':gb_reg_model,'pca':pca},file)"
   ]
  },
  {
   "cell_type": "code",
   "execution_count": 89,
   "id": "d0b84cb6-1bb9-4cb3-ae58-5ac8e52493d5",
   "metadata": {},
   "outputs": [],
   "source": [
    "ch_all_11_22=[]\n",
    "rh_all_11_22=[]\n",
    "t_all_11_22=[]\n",
    "for i in range(2011,2023):\n",
    "    ch_all_11_22.extend(dict_ch[i])\n",
    "    rh_all_11_22.extend(dict_rh[i])\n",
    "    t_all_11_22.extend(dict_t[i])\n",
    "ch_all_11_22=np.array(ch_all_11_22)\n",
    "rh_all_11_22=np.array(rh_all_11_22)\n",
    "t_all_11_22=np.array(t_all_11_22)"
   ]
  },
  {
   "cell_type": "code",
   "execution_count": 90,
   "id": "a43f5f32-823b-4000-a9fd-2dc4b5a06db6",
   "metadata": {},
   "outputs": [
    {
     "data": {
      "text/plain": [
       "(144, 38, 50)"
      ]
     },
     "execution_count": 90,
     "metadata": {},
     "output_type": "execute_result"
    }
   ],
   "source": [
    "ch_all_11_22.shape"
   ]
  },
  {
   "cell_type": "code",
   "execution_count": 91,
   "id": "277db43a-30a0-4445-83a1-b37d6865e82f",
   "metadata": {},
   "outputs": [],
   "source": [
    "start_date = datetime(2011, 1, 1)\n",
    "end_date_a = datetime(2023, 1, 1)\n",
    "months_a = months_between(start_date, end_date_a)\n",
    "ndvi_cal=ndvi_mosaic[:months_a,:,:]\n",
    "pdsi_cal=pdsi_mosaic[:months_a,:,:]"
   ]
  },
  {
   "cell_type": "code",
   "execution_count": 92,
   "id": "34db7a0d-adc6-4282-8dc4-fbcd86381060",
   "metadata": {},
   "outputs": [],
   "source": [
    "data_all_2011_2022=np.array([ch_all_11_22,rh_all_11_22,t_all_11_22,ndvi_cal,pdsi_cal])"
   ]
  },
  {
   "cell_type": "code",
   "execution_count": 93,
   "id": "ae6b8820-b9bd-492e-b3e8-881a49c95a0b",
   "metadata": {},
   "outputs": [
    {
     "data": {
      "text/plain": [
       "(5, 144, 38, 50)"
      ]
     },
     "execution_count": 93,
     "metadata": {},
     "output_type": "execute_result"
    }
   ],
   "source": [
    "data_all_2011_2022.shape"
   ]
  },
  {
   "cell_type": "code",
   "execution_count": 94,
   "id": "c2952ae1-1b27-497a-ac4a-3f12fcc361e9",
   "metadata": {},
   "outputs": [],
   "source": [
    "## reformat ndvi\n",
    "data_all_2011_2022[3,:,:,:]=np.where(data_all_2011_2022[3,:,:,:]==0, -9999,data_all_2011_2022[3,:,:,:])\n",
    "data_all_2011_2022[3,:,:,:]=np.where(data_all_2011_2022[3,:,:,:]==-9999, np.nan,data_all_2011_2022[3,:,:,:])*0.0001\n",
    "\n",
    "##reformat pdsi\n",
    "data_all_2011_2022[4,:,:,:]=np.where(data_all_2011_2022[4,:,:,:]==0, -9999,data_all_2011_2022[4,:,:,:])\n",
    "data_all_2011_2022[4,:,:,:]=np.where(data_all_2011_2022[4,:,:,:]==-9999, np.nan,data_all_2011_2022[4,:,:,:])\n",
    "\n",
    "##reformat ch\n",
    "data_all_2011_2022[0,:,:,:]=np.where(data_all_2011_2022[0,:,:,:]==-9999, np.nan,data_all_2011_2022[0,:,:,:])\n",
    "\n",
    "##reformat rh\n",
    "data_all_2011_2022[1,:,:,:]=np.where(data_all_2011_2022[1,:,:,:]==-9999, np.nan,data_all_2011_2022[1,:,:,:])\n",
    "\n",
    "##reformat t\n",
    "data_all_2011_2022[2,:,:,:]=np.where(data_all_2011_2022[2,:,:,:]==-9999, np.nan,data_all_2011_2022[2,:,:,:])"
   ]
  },
  {
   "cell_type": "code",
   "execution_count": 95,
   "id": "c40633f9-97e8-4204-9538-85a355b33888",
   "metadata": {},
   "outputs": [],
   "source": [
    "data_index=data_all_2011_2022[:4,:,:,:].copy()"
   ]
  },
  {
   "cell_type": "code",
   "execution_count": 96,
   "id": "52d633e9-6732-4198-adf7-f4fae86cd9da",
   "metadata": {},
   "outputs": [],
   "source": [
    "dict_index={\n",
    "    'vci':{'min':-1,'max':1},\n",
    "    'hci':{'min':min_value_rh.values,'max':max_value_rh.values},\n",
    "    'pci':{'min':min_value_ch.values,'max':max_value_ch.values},\n",
    "    'tci':{'min':min_value_t.values,'max':max_value_t.values}    \n",
    "}"
   ]
  },
  {
   "cell_type": "code",
   "execution_count": 97,
   "id": "0187cc8d-2017-4e36-94e9-133f88199353",
   "metadata": {},
   "outputs": [],
   "source": [
    "def calculate(arr,index):\n",
    "    min=dict_index[index]['min']\n",
    "    max=dict_index[index]['max']\n",
    "    if arr==np.nan:\n",
    "        return 0\n",
    "    else:\n",
    "        return (arr-min)/(max-min)"
   ]
  },
  {
   "cell_type": "code",
   "execution_count": 98,
   "id": "993a7b9a-bd21-47ef-b9d9-96c25d615b98",
   "metadata": {},
   "outputs": [],
   "source": [
    "vec_func = np.vectorize(calculate)"
   ]
  },
  {
   "cell_type": "code",
   "execution_count": 99,
   "id": "c2d84a74-9f67-49aa-a0cb-fb7e7b70adfd",
   "metadata": {},
   "outputs": [],
   "source": [
    "pci_index=vec_func(data_all_2011_2022[0,:,:,:],index='pci')\n",
    "hci_index=vec_func(data_all_2011_2022[1,:,:,:],index='hci')\n",
    "tci_index=vec_func(data_all_2011_2022[2,:,:,:],index='tci')\n",
    "vci_index=vec_func(data_all_2011_2022[3,:,:,:],index='vci')"
   ]
  },
  {
   "cell_type": "code",
   "execution_count": 100,
   "id": "a8a30f46-b19f-4351-aa61-8133cca1defa",
   "metadata": {},
   "outputs": [],
   "source": [
    "import pickle\n",
    "with open('index_pre_drought.pickle','wb') as file:\n",
    "    pickle.dump({'pci':pci_index,\n",
    "                 'hci':hci_index,\n",
    "                 'tci':tci_index,\n",
    "                 'vci':vci_index},file)"
   ]
  },
  {
   "cell_type": "code",
   "execution_count": 86,
   "id": "3e978b03-e31e-4fd5-8ff3-12f552ead72c",
   "metadata": {},
   "outputs": [],
   "source": [
    "reference_raster = rxr.open_rasterio('Curah_Hujan.tif')\n",
    "\n",
    "# Get the spatial properties from the reference raster\n",
    "transform = reference_raster.rio.transform()\n",
    "width, height = reference_raster.rio.width, reference_raster.rio.height\n",
    "crs = reference_raster.rio.crs\n",
    "\n",
    "with rasterio.open(\n",
    "    'contoh.tif',\n",
    "    'w',\n",
    "    driver='GTiff',\n",
    "    height=height,\n",
    "    width=width,\n",
    "    count=1,\n",
    "    dtype=rasterio.float32,\n",
    "    crs=crs,\n",
    "    transform=transform,\n",
    ") as dst:\n",
    "    dst.write(hci_index[0,:,:],1)"
   ]
  },
  {
   "cell_type": "code",
   "execution_count": 104,
   "id": "5f3bfc5e-011c-4682-9eee-88f8ff4d2646",
   "metadata": {},
   "outputs": [],
   "source": [
    "pci_index_c=np.nan_to_num(pci_index, nan=0)\n",
    "tci_index_c=np.nan_to_num(tci_index, nan=0)\n",
    "hci_index_c=np.nan_to_num(hci_index, nan=0)\n",
    "vci_index_c=np.nan_to_num(vci_index, nan=0)"
   ]
  },
  {
   "cell_type": "code",
   "execution_count": 106,
   "id": "4590fb5e-7c04-4f3b-b3c1-400bc51f5d1d",
   "metadata": {},
   "outputs": [],
   "source": [
    "data_combine_gab=np.array([pci_index_c,tci_index_c,hci_index_c,vci_index_c])"
   ]
  },
  {
   "cell_type": "code",
   "execution_count": 115,
   "id": "52f10e6d-4adc-4d93-8181-e5c0bf4d1d32",
   "metadata": {},
   "outputs": [
    {
     "name": "stderr",
     "output_type": "stream",
     "text": [
      "100%|████████████████████████████████████████████████████████████████████████████████| 144/144 [00:25<00:00,  5.59it/s]\n"
     ]
    }
   ],
   "source": [
    "sha_=data_combine_gab.shape\n",
    "pc_dt=np.zeros((sha_[1],sha_[2],sha_[3]))\n",
    "for i in tqdm((range(0,sha_[1]))):\n",
    "    for j in range(0,sha_[2]):\n",
    "        for k in range(0,sha_[3]):\n",
    "            pc_dt[i,j,k]=pca.transform(data_combine_gab[:,i,j,k].reshape(1, -1))"
   ]
  },
  {
   "cell_type": "code",
   "execution_count": 117,
   "id": "6705e77b-6742-4a55-86e5-c23e38c8e46d",
   "metadata": {},
   "outputs": [
    {
     "name": "stderr",
     "output_type": "stream",
     "text": [
      "100%|████████████████████████████████████████████████████████████████████████████████| 144/144 [01:15<00:00,  1.90it/s]\n"
     ]
    }
   ],
   "source": [
    "drought_index=np.zeros((sha_[1],sha_[2],sha_[3]))\n",
    "for i in tqdm((range(0,sha_[1]))):\n",
    "    for j in range(0,sha_[2]):\n",
    "        for k in range(0,sha_[3]):\n",
    "            drought_index[i,j,k]=gb_reg_model.predict(pc_dt[i,j,k].reshape(1, -1))"
   ]
  },
  {
   "cell_type": "code",
   "execution_count": 121,
   "id": "4a4dfccd-83fe-4912-b8a8-046a214f86f5",
   "metadata": {},
   "outputs": [
    {
     "data": {
      "text/plain": [
       "(60, 38, 50)"
      ]
     },
     "execution_count": 121,
     "metadata": {},
     "output_type": "execute_result"
    }
   ],
   "source": [
    "pci_index[-60:,:,:].shape"
   ]
  },
  {
   "cell_type": "code",
   "execution_count": 122,
   "id": "ce918637-9d8c-4de0-a838-3fb24ba900f8",
   "metadata": {},
   "outputs": [],
   "source": [
    "reference_raster = rxr.open_rasterio('Curah_Hujan.tif')\n",
    "\n",
    "# Get the spatial properties from the reference raster\n",
    "transform = reference_raster.rio.transform()\n",
    "width, height = reference_raster.rio.width, reference_raster.rio.height\n",
    "crs = reference_raster.rio.crs\n",
    "\n",
    "# Create a new multi-band raster dataset\n",
    "with rasterio.open(\n",
    "    'pci_20_22.tif',\n",
    "    'w',\n",
    "    driver='GTiff',\n",
    "    height=height,\n",
    "    width=width,\n",
    "    count=60,\n",
    "    dtype=rasterio.float32,\n",
    "    crs=crs,\n",
    "    transform=transform,\n",
    ") as dst:\n",
    "    for i in range(0,60):\n",
    "        dst.write(pci_index[-60+i,:,:].astype(rasterio.float32), i+1)"
   ]
  },
  {
   "cell_type": "code",
   "execution_count": 123,
   "id": "4f881733-df6f-4cf5-a670-bfec9f197496",
   "metadata": {},
   "outputs": [],
   "source": [
    "with rasterio.open(\n",
    "    'vci_20_22.tif',\n",
    "    'w',\n",
    "    driver='GTiff',\n",
    "    height=height,\n",
    "    width=width,\n",
    "    count=60,\n",
    "    dtype=rasterio.float32,\n",
    "    crs=crs,\n",
    "    transform=transform,\n",
    ") as dst:\n",
    "    for i in range(0,60):\n",
    "        dst.write(vci_index[-60+i,:,:].astype(rasterio.float32), i+1)"
   ]
  },
  {
   "cell_type": "code",
   "execution_count": 124,
   "id": "8017873f-152b-4a48-85fd-306808d949dc",
   "metadata": {},
   "outputs": [],
   "source": [
    "with rasterio.open(\n",
    "    'Output/hci_20_22.tif',\n",
    "    'w',\n",
    "    driver='GTiff',\n",
    "    height=height,\n",
    "    width=width,\n",
    "    count=60,\n",
    "    dtype=rasterio.float32,\n",
    "    crs=crs,\n",
    "    transform=transform,\n",
    ") as dst:\n",
    "    for i in range(0,60):\n",
    "        dst.write(hci_index[-60+i,:,:].astype(rasterio.float32), i+1)"
   ]
  },
  {
   "cell_type": "code",
   "execution_count": 164,
   "id": "973d898a-7b99-47a8-a9ec-8ac9644aa4b7",
   "metadata": {},
   "outputs": [],
   "source": [
    "with rasterio.open(\n",
    "    'Output/tci_20_22.tif',\n",
    "    'w',\n",
    "    driver='GTiff',\n",
    "    height=height,\n",
    "    width=width,\n",
    "    count=60,\n",
    "    dtype=rasterio.float32,\n",
    "    crs=crs,\n",
    "    transform=transform,\n",
    ") as dst:\n",
    "    for i in range(0,60):\n",
    "        dst.write(tci_index[-60+i,:,:].astype(rasterio.float32), i+1)"
   ]
  },
  {
   "cell_type": "code",
   "execution_count": null,
   "id": "d967996b-a94f-4c7e-a9b1-9454d95bd07c",
   "metadata": {},
   "outputs": [],
   "source": [
    "with rasterio.open(\n",
    "    'Output/pc_20_22.tif',\n",
    "    'w',\n",
    "    driver='GTiff',\n",
    "    height=height,\n",
    "    width=width,\n",
    "    count=60,\n",
    "    dtype=rasterio.float32,\n",
    "    crs=crs,\n",
    "    transform=transform,\n",
    ") as dst:\n",
    "    for i in range(0,60):\n",
    "        dst.write(pc_dt[-60+i,:,:].astype(rasterio.float32), i+1)"
   ]
  },
  {
   "cell_type": "code",
   "execution_count": 127,
   "id": "f8c1362b-fa9b-4011-964e-21e6daa69ba1",
   "metadata": {},
   "outputs": [],
   "source": [
    "with rasterio.open(\n",
    "    'drought_20_22.tif',\n",
    "    'w',\n",
    "    driver='GTiff',\n",
    "    height=height,\n",
    "    width=width,\n",
    "    count=60,\n",
    "    dtype=rasterio.float32,\n",
    "    crs=crs,\n",
    "    transform=transform,\n",
    ") as dst:\n",
    "    for i in range(0,60):\n",
    "        dst.write(drought_index[-60+i,:,:].astype(rasterio.float32), i+1)"
   ]
  },
  {
   "cell_type": "code",
   "execution_count": 163,
   "id": "fcea217c-a7e3-4af4-af50-4a6bb00c9868",
   "metadata": {},
   "outputs": [],
   "source": [
    "import pickle\n",
    "with open('Output/drought_array.pickle','wb') as file:\n",
    "    pickle.dump(drought_index,file)"
   ]
  },
  {
   "cell_type": "code",
   "execution_count": 130,
   "id": "767024bb-58b4-4f82-9457-786c254943b4",
   "metadata": {},
   "outputs": [
    {
     "data": {
      "text/plain": [
       "(144, 38, 50)"
      ]
     },
     "execution_count": 130,
     "metadata": {},
     "output_type": "execute_result"
    }
   ],
   "source": [
    "drought_index.shape"
   ]
  },
  {
   "cell_type": "code",
   "execution_count": 136,
   "id": "896c462d-6bf7-4bc8-9e45-cc5db2e670f2",
   "metadata": {},
   "outputs": [],
   "source": [
    "sh_=drought_index.shape\n",
    "drought_span=np.zeros((sh_[0],64,64))"
   ]
  },
  {
   "cell_type": "code",
   "execution_count": 138,
   "id": "4bf31017-6402-4a45-a9de-fe3d3d7725fb",
   "metadata": {},
   "outputs": [],
   "source": [
    "drought_span[:,:sh_[1],:sh_[2]]=drought_index"
   ]
  },
  {
   "cell_type": "code",
   "execution_count": 142,
   "id": "712f1fec-5c53-4d94-a19f-e7dc70c836ea",
   "metadata": {},
   "outputs": [],
   "source": [
    "inputs = np.random.rand(100, 5)"
   ]
  },
  {
   "cell_type": "code",
   "execution_count": 159,
   "id": "1b7b86d3-5de4-44ee-ad53-f4021006f276",
   "metadata": {},
   "outputs": [],
   "source": [
    "sh=drought_span.shape\n",
    "input_=3\n",
    "output_=1\n",
    "inputs=[]\n",
    "outputs=[]\n",
    "for i in range(sh[0]-input_):\n",
    "    input_temp=drought_span[i:i+input_,:,:]\n",
    "    inputs.append(input_temp)\n",
    "    output_temp=drought_span[i+input_,:,:]\n",
    "    outputs.append(output_temp)"
   ]
  },
  {
   "cell_type": "code",
   "execution_count": 162,
   "id": "72a5493a-6b92-445a-9ff3-3794337e23da",
   "metadata": {},
   "outputs": [],
   "source": [
    "with open('Output/array_forconvlstm.pickle','wb') as file:\n",
    "    pickle.dump({'input':inputs,'output':outputs},file)"
   ]
  }
 ],
 "metadata": {
  "kernelspec": {
   "display_name": "Python 3 (ipykernel)",
   "language": "python",
   "name": "python3"
  },
  "language_info": {
   "codemirror_mode": {
    "name": "ipython",
    "version": 3
   },
   "file_extension": ".py",
   "mimetype": "text/x-python",
   "name": "python",
   "nbconvert_exporter": "python",
   "pygments_lexer": "ipython3",
   "version": "3.12.4"
  }
 },
 "nbformat": 4,
 "nbformat_minor": 5
}
