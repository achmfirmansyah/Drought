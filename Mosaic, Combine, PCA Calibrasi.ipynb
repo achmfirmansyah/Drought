{
 "cells": [
  {
   "cell_type": "code",
   "execution_count": 84,
   "id": "005f85ec-ddbb-487d-aa44-8fe6e781c2af",
   "metadata": {},
   "outputs": [],
   "source": [
    "import rioxarray as rxr\n",
    "import numpy as np\n",
    "from datetime import date\n",
    "import pandas as pd"
   ]
  },
  {
   "cell_type": "code",
   "execution_count": 85,
   "id": "a7e55207-2ae0-4b91-9683-a3e867aa2bad",
   "metadata": {},
   "outputs": [],
   "source": [
    "def mosaic_monthly(raster_file,year):\n",
    "    raster_data = rxr.open_rasterio(raster_file)\n",
    "    date_a = date(2011, 1, 1)\n",
    "    date_b = date(2020, 1, 1)\n",
    "    date_c = date(2020, 12, 31)\n",
    "    # Calculate the difference in days\n",
    "    days_start=(date_b - date_a).days\n",
    "    days_end=(date_c-date_a).days\n",
    "    bands=raster_data[range(days_start,days_end+1)]\n",
    "    ar_year = np.array([band.values for band in bands])\n",
    "    mo_year=[]\n",
    "    start_index=0\n",
    "    end_index=0\n",
    "    for i in range(0,12):\n",
    "        dt_start=date(2020,i+1,1)\n",
    "        if i<11:\n",
    "            dt_end=date(2020,i+2,1)\n",
    "        else:\n",
    "            dt_end=date(2021,1,1)\n",
    "        days=(dt_start-dt_end).days\n",
    "        end_index=start_index+days+1\n",
    "        mosaic_months=ar_year[start_index:end_index+1,:,:].mean(axis=0)\n",
    "        mo_year.append(mosaic_months)\n",
    "        start_index=end_index\n",
    "    return np.array(mo_year)"
   ]
  },
  {
   "cell_type": "code",
   "execution_count": 86,
   "id": "a5160b92-b26b-4216-95be-70a560ce91cc",
   "metadata": {},
   "outputs": [
    {
     "name": "stderr",
     "output_type": "stream",
     "text": [
      "C:\\Users\\achmf\\AppData\\Local\\Temp\\ipykernel_8724\\50163137.py:22: RuntimeWarning: Mean of empty slice.\n",
      "  mosaic_months=ar_year[start_index:end_index+1,:,:].mean(axis=0)\n",
      "C:\\Users\\achmf\\.conda\\envs\\mlenv\\lib\\site-packages\\numpy\\core\\_methods.py:184: RuntimeWarning: invalid value encountered in divide\n",
      "  ret = um.true_divide(\n"
     ]
    }
   ],
   "source": [
    "ch_mosaic=mosaic_monthly('Curah_Hujan.tif',2020)"
   ]
  },
  {
   "cell_type": "code",
   "execution_count": 87,
   "id": "56ba0b86-ca5c-4ae8-8841-1e2d9da0ad02",
   "metadata": {},
   "outputs": [
    {
     "name": "stderr",
     "output_type": "stream",
     "text": [
      "C:\\Users\\achmf\\AppData\\Local\\Temp\\ipykernel_8724\\50163137.py:22: RuntimeWarning: Mean of empty slice.\n",
      "  mosaic_months=ar_year[start_index:end_index+1,:,:].mean(axis=0)\n",
      "C:\\Users\\achmf\\.conda\\envs\\mlenv\\lib\\site-packages\\numpy\\core\\_methods.py:184: RuntimeWarning: invalid value encountered in divide\n",
      "  ret = um.true_divide(\n"
     ]
    }
   ],
   "source": [
    "rh_mosaic=mosaic_monthly('RH.tif',2020)"
   ]
  },
  {
   "cell_type": "code",
   "execution_count": 88,
   "id": "0f196482-42f7-4a00-99fe-d8c15eacb0ec",
   "metadata": {},
   "outputs": [
    {
     "name": "stderr",
     "output_type": "stream",
     "text": [
      "C:\\Users\\achmf\\AppData\\Local\\Temp\\ipykernel_8724\\50163137.py:22: RuntimeWarning: Mean of empty slice.\n",
      "  mosaic_months=ar_year[start_index:end_index+1,:,:].mean(axis=0)\n",
      "C:\\Users\\achmf\\.conda\\envs\\mlenv\\lib\\site-packages\\numpy\\core\\_methods.py:184: RuntimeWarning: invalid value encountered in divide\n",
      "  ret = um.true_divide(\n"
     ]
    }
   ],
   "source": [
    "t_mosaic=mosaic_monthly('TEMPERATUR.tif',2020)"
   ]
  },
  {
   "cell_type": "code",
   "execution_count": 99,
   "id": "716e4a89-3631-4c9b-8970-355e98dbe8e5",
   "metadata": {},
   "outputs": [
    {
     "name": "stdout",
     "output_type": "stream",
     "text": [
      "(12, 38, 50)\n"
     ]
    }
   ],
   "source": [
    "tif_path = 'NDVI_11_24.tif'\n",
    "raster = rxr.open_rasterio(tif_path)\n",
    "# Convert the raster data into a NumPy array\n",
    "ndvi_mosaic = raster.values\n",
    "\n",
    "tif_path = 'PDSI.tif'\n",
    "raster = rxr.open_rasterio(tif_path)\n",
    "# Convert the raster data into a NumPy array\n",
    "pdsi_mosaic = raster.values\n",
    "\n",
    "print(ndvi_mosaic.shape)"
   ]
  },
  {
   "cell_type": "code",
   "execution_count": 100,
   "id": "514ba162-2085-4e86-a975-08cbfbc962fe",
   "metadata": {},
   "outputs": [],
   "source": [
    "dt_gab=np.array([ch_mosaic,rh_mosaic,t_mosaic,ndvi_mosaic,pdsi_mosaic])"
   ]
  },
  {
   "cell_type": "code",
   "execution_count": 108,
   "id": "04ac3cdc-4484-42c7-8af3-f1e2de39a78a",
   "metadata": {},
   "outputs": [],
   "source": [
    "dict_df={}\n",
    "for i in range(0,dt_gab.shape[0]):\n",
    "    dict_df[i]=dt_gab[i,:,:,:].ravel()"
   ]
  },
  {
   "cell_type": "code",
   "execution_count": 109,
   "id": "807bbd20-0dce-4362-96b8-ffca7631467a",
   "metadata": {},
   "outputs": [],
   "source": [
    "data_=pd.DataFrame(dict_df)"
   ]
  },
  {
   "cell_type": "code",
   "execution_count": 110,
   "id": "62ef2e45-3005-4a59-8373-e85f1389c758",
   "metadata": {},
   "outputs": [],
   "source": [
    "data_.columns=['ch','rh','t','ndvi','pdsi']\n",
    "data_['ndvi'].replace(0,-9999,inplace=True)\n",
    "data_['ndvi'].replace(-9999,np.nan,inplace=True)\n",
    "\n",
    "data_['pdsi'].replace(0,-9999,inplace=True)\n",
    "data_['pdsi'].replace(-9999,np.nan,inplace=True)\n",
    "data_['ch'].replace(-9999,np.nan,inplace=True)\n",
    "data_['rh'].replace(-9999,np.nan,inplace=True)\n",
    "data_['t'].replace(-9999,np.nan,inplace=True)"
   ]
  },
  {
   "cell_type": "code",
   "execution_count": 111,
   "id": "604b0722-88e3-4067-afce-c4d15c14c551",
   "metadata": {},
   "outputs": [],
   "source": [
    "data_.dropna(inplace=True)"
   ]
  },
  {
   "cell_type": "code",
   "execution_count": 112,
   "id": "d148734d-bccc-43d1-bcd1-b08a3c272420",
   "metadata": {},
   "outputs": [],
   "source": [
    "data_['ndvi']=data_.ndvi*0.0001\n",
    "data_['pdsi']=data_.pdsi*0.01"
   ]
  },
  {
   "cell_type": "code",
   "execution_count": 113,
   "id": "2327a9ca-54a5-47a0-8dae-1d3f0051c595",
   "metadata": {},
   "outputs": [],
   "source": [
    "from sklearn.decomposition import PCA\n",
    "import matplotlib.pyplot as plt\n",
    "from sklearn.preprocessing import StandardScaler"
   ]
  },
  {
   "cell_type": "code",
   "execution_count": 114,
   "id": "8ffba7ec-a020-4ebc-8a56-50ba7822c254",
   "metadata": {},
   "outputs": [
    {
     "data": {
      "text/html": [
       "<div>\n",
       "<style scoped>\n",
       "    .dataframe tbody tr th:only-of-type {\n",
       "        vertical-align: middle;\n",
       "    }\n",
       "\n",
       "    .dataframe tbody tr th {\n",
       "        vertical-align: top;\n",
       "    }\n",
       "\n",
       "    .dataframe thead th {\n",
       "        text-align: right;\n",
       "    }\n",
       "</style>\n",
       "<table border=\"1\" class=\"dataframe\">\n",
       "  <thead>\n",
       "    <tr style=\"text-align: right;\">\n",
       "      <th></th>\n",
       "      <th>ch</th>\n",
       "      <th>rh</th>\n",
       "      <th>t</th>\n",
       "      <th>ndvi</th>\n",
       "      <th>pdsi</th>\n",
       "    </tr>\n",
       "  </thead>\n",
       "  <tbody>\n",
       "    <tr>\n",
       "      <th>64</th>\n",
       "      <td>5.770989</td>\n",
       "      <td>-4507.139466</td>\n",
       "      <td>28.668152</td>\n",
       "      <td>-0.045118</td>\n",
       "      <td>-4.023552</td>\n",
       "    </tr>\n",
       "    <tr>\n",
       "      <th>65</th>\n",
       "      <td>5.522403</td>\n",
       "      <td>-4519.694362</td>\n",
       "      <td>28.683402</td>\n",
       "      <td>0.022746</td>\n",
       "      <td>-4.071099</td>\n",
       "    </tr>\n",
       "    <tr>\n",
       "      <th>114</th>\n",
       "      <td>5.917768</td>\n",
       "      <td>-4481.083086</td>\n",
       "      <td>28.664305</td>\n",
       "      <td>0.161352</td>\n",
       "      <td>-3.926659</td>\n",
       "    </tr>\n",
       "    <tr>\n",
       "      <th>115</th>\n",
       "      <td>5.804349</td>\n",
       "      <td>-4491.172107</td>\n",
       "      <td>28.707260</td>\n",
       "      <td>0.221455</td>\n",
       "      <td>-3.993086</td>\n",
       "    </tr>\n",
       "    <tr>\n",
       "      <th>116</th>\n",
       "      <td>5.536375</td>\n",
       "      <td>-4501.305638</td>\n",
       "      <td>28.595351</td>\n",
       "      <td>0.122628</td>\n",
       "      <td>-4.033929</td>\n",
       "    </tr>\n",
       "    <tr>\n",
       "      <th>...</th>\n",
       "      <td>...</td>\n",
       "      <td>...</td>\n",
       "      <td>...</td>\n",
       "      <td>...</td>\n",
       "      <td>...</td>\n",
       "    </tr>\n",
       "    <tr>\n",
       "      <th>1889</th>\n",
       "      <td>9.682652</td>\n",
       "      <td>-2883.071217</td>\n",
       "      <td>26.968733</td>\n",
       "      <td>0.804652</td>\n",
       "      <td>-1.705578</td>\n",
       "    </tr>\n",
       "    <tr>\n",
       "      <th>1890</th>\n",
       "      <td>9.592973</td>\n",
       "      <td>-2994.284866</td>\n",
       "      <td>27.067359</td>\n",
       "      <td>0.776218</td>\n",
       "      <td>-1.673131</td>\n",
       "    </tr>\n",
       "    <tr>\n",
       "      <th>1891</th>\n",
       "      <td>9.235468</td>\n",
       "      <td>-3105.468843</td>\n",
       "      <td>27.191014</td>\n",
       "      <td>0.765537</td>\n",
       "      <td>-1.666780</td>\n",
       "    </tr>\n",
       "    <tr>\n",
       "      <th>1892</th>\n",
       "      <td>9.041769</td>\n",
       "      <td>-3216.682493</td>\n",
       "      <td>27.281745</td>\n",
       "      <td>0.808540</td>\n",
       "      <td>-2.058445</td>\n",
       "    </tr>\n",
       "    <tr>\n",
       "      <th>1893</th>\n",
       "      <td>9.925973</td>\n",
       "      <td>-3327.908012</td>\n",
       "      <td>27.333456</td>\n",
       "      <td>0.688758</td>\n",
       "      <td>-2.588105</td>\n",
       "    </tr>\n",
       "  </tbody>\n",
       "</table>\n",
       "<p>1247 rows × 5 columns</p>\n",
       "</div>"
      ],
      "text/plain": [
       "            ch           rh          t      ndvi      pdsi\n",
       "64    5.770989 -4507.139466  28.668152 -0.045118 -4.023552\n",
       "65    5.522403 -4519.694362  28.683402  0.022746 -4.071099\n",
       "114   5.917768 -4481.083086  28.664305  0.161352 -3.926659\n",
       "115   5.804349 -4491.172107  28.707260  0.221455 -3.993086\n",
       "116   5.536375 -4501.305638  28.595351  0.122628 -4.033929\n",
       "...        ...          ...        ...       ...       ...\n",
       "1889  9.682652 -2883.071217  26.968733  0.804652 -1.705578\n",
       "1890  9.592973 -2994.284866  27.067359  0.776218 -1.673131\n",
       "1891  9.235468 -3105.468843  27.191014  0.765537 -1.666780\n",
       "1892  9.041769 -3216.682493  27.281745  0.808540 -2.058445\n",
       "1893  9.925973 -3327.908012  27.333456  0.688758 -2.588105\n",
       "\n",
       "[1247 rows x 5 columns]"
      ]
     },
     "execution_count": 114,
     "metadata": {},
     "output_type": "execute_result"
    }
   ],
   "source": [
    "data_"
   ]
  },
  {
   "cell_type": "code",
   "execution_count": 115,
   "id": "908e63dd-75dc-439a-bcb1-0aadd05be6da",
   "metadata": {},
   "outputs": [
    {
     "name": "stdout",
     "output_type": "stream",
     "text": [
      "[[-0.925466   -1.10956628  1.53768174 -3.56385374]\n",
      " [-1.01298636 -1.12204088  1.54470739 -3.18051854]]\n"
     ]
    },
    {
     "data": {
      "image/png": "[encoded data removed]",
      "text/plain": [
       "<Figure size 640x480 with 1 Axes>"
      ]
     },
     "metadata": {},
     "output_type": "display_data"
    }
   ],
   "source": [
    "# Normalize the data\n",
    "scaler = StandardScaler()\n",
    "data_scaled = scaler.fit_transform(data_[['ch','rh','t','ndvi']])\n",
    "print(data_scaled[0:2,:])\n",
    "\n",
    "# Apply PCA\n",
    "pca = PCA()\n",
    "pca.fit(data_scaled)\n",
    "\n",
    "# Create scree plot\n",
    "plt.plot(np.cumsum(pca.explained_variance_ratio_))\n",
    "plt.xlabel('Number of Components')\n",
    "plt.ylabel('Cumulative Explained Variance')\n",
    "plt.title('Scree Plot')\n",
    "plt.show()"
   ]
  },
  {
   "cell_type": "code",
   "execution_count": 116,
   "id": "095f1177-8d7f-4a75-9aa5-c44e9ff15baa",
   "metadata": {},
   "outputs": [
    {
     "name": "stdout",
     "output_type": "stream",
     "text": [
      "[[ 3.56708089 -0.21070556]\n",
      " [ 3.42410679 -0.1779093 ]\n",
      " [ 2.94229481  0.08080407]\n",
      " ...\n",
      " [-0.39154619  0.94747464]\n",
      " [-0.40081661  1.00329996]\n",
      " [-0.1269756   1.10201153]]\n"
     ]
    }
   ],
   "source": [
    "pca = PCA(n_components=2)  # Reduce to one dimension\n",
    "\n",
    "# Fit and transform the data\n",
    "X_reduced = pca.fit_transform(data_scaled)\n",
    "\n",
    "print(X_reduced)"
   ]
  },
  {
   "cell_type": "code",
   "execution_count": 119,
   "id": "0ac4f77d-9af1-4e8a-92c2-96b33d4bbf9d",
   "metadata": {},
   "outputs": [],
   "source": [
    "data_['PC1']=X_reduced[:,0]\n",
    "data_['PC2']=X_reduced[:,1]"
   ]
  },
  {
   "cell_type": "code",
   "execution_count": 130,
   "id": "7d27cb18-072f-40bd-a789-e6282b2bffde",
   "metadata": {},
   "outputs": [
    {
     "name": "stdout",
     "output_type": "stream",
     "text": [
      "Best parameters: {'learning_rate': 0.01, 'max_depth': 4, 'n_estimators': 100}\n",
      "Best cross-validation score: 0.8018448469562044\n"
     ]
    }
   ],
   "source": [
    "#import xgboost as xgb\n",
    "from sklearn.ensemble import GradientBoostingRegressor\n",
    "from sklearn.model_selection import cross_val_score,GridSearchCV\n",
    "from sklearn.model_selection import train_test_split\n",
    "\n",
    "\n",
    "X, y = data_[['PC1','PC2']], data_['pdsi']\n",
    "X_train, X_test, y_train, y_test = train_test_split(X, y, test_size=0.2, random_state=42)\n",
    "\n",
    "gb_reg = GradientBoostingRegressor()\n",
    "\n",
    "# Define parameter grid for cross-validation\n",
    "param_grid = {\n",
    "    'n_estimators': [100, 200, 300],\n",
    "    'learning_rate': [0.1, 0.05, 0.01],\n",
    "    'max_depth': [3, 4, 5]\n",
    "}\n",
    "\n",
    "# Perform grid search with cross-validation\n",
    "grid_search = GridSearchCV(gb_reg, param_grid, cv=5, scoring='neg_mean_squared_error')\n",
    "grid_search.fit(X, y)\n",
    "\n",
    "# Print best parameters and cross-validation score\n",
    "print(\"Best parameters:\", grid_search.best_params_)\n",
    "print(\"Best cross-validation score:\", -grid_search.best_score_) "
   ]
  },
  {
   "cell_type": "code",
   "execution_count": null,
   "id": "a3711da5-c25c-4645-8570-95bd75b5f85b",
   "metadata": {},
   "outputs": [],
   "source": []
  },
  {
   "cell_type": "code",
   "execution_count": null,
   "id": "af85f44e-592d-4289-84f5-2f09b39b7148",
   "metadata": {},
   "outputs": [],
   "source": []
  }
 ],
 "metadata": {
  "kernelspec": {
   "display_name": "Python 3 (ipykernel)",
   "language": "python",
   "name": "python3"
  },
  "language_info": {
   "codemirror_mode": {
    "name": "ipython",
    "version": 3
   },
   "file_extension": ".py",
   "mimetype": "text/x-python",
   "name": "python",
   "nbconvert_exporter": "python",
   "pygments_lexer": "ipython3",
   "version": "3.8.0"
  }
 },
 "nbformat": 4,
 "nbformat_minor": 5
}
